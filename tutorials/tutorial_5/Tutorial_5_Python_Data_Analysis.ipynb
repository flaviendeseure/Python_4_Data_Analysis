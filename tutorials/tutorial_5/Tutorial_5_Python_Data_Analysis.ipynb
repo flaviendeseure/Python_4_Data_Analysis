{
 "cells": [
  {
   "cell_type": "markdown",
   "metadata": {
    "id": "SCdJqAFfiOqE"
   },
   "source": [
    "# Tutorial 5 - Python For Data Analysis 🐍 \n",
    "\n",
    "---\n",
    "\n",
    "## Scikit Learn 💫"
   ]
  },
  {
   "cell_type": "code",
   "execution_count": 1,
   "metadata": {
    "id": "Nfe8zztQncoX"
   },
   "outputs": [],
   "source": [
    "#optuna, huggingface, xgboost"
   ]
  },
  {
   "cell_type": "markdown",
   "metadata": {
    "id": "Hs9vhDobigi_"
   },
   "source": [
    "### *Table of Contents*\n",
    "\n",
    "- Supervised Learning 🔎\n",
    "  - [Exercise 1](#exercise-1) \n",
    "  - [Exercice 2](#exercise-2) "
   ]
  },
  {
   "cell_type": "markdown",
   "metadata": {
    "id": "sNte2IxeioDM"
   },
   "source": [
    "## Requirements"
   ]
  },
  {
   "cell_type": "code",
   "execution_count": 2,
   "metadata": {
    "id": "3moLlz1RiF1h"
   },
   "outputs": [
    {
     "name": "stderr",
     "output_type": "stream",
     "text": [
      "C:\\ProgramData\\Anaconda3\\lib\\site-packages\\numpy\\_distributor_init.py:30: UserWarning: loaded more than 1 DLL from .libs:\n",
      "C:\\ProgramData\\Anaconda3\\lib\\site-packages\\numpy\\.libs\\libopenblas.NOIJJG62EMASZI6NYURL6JBKM4EVBGM7.gfortran-win_amd64.dll\n",
      "C:\\ProgramData\\Anaconda3\\lib\\site-packages\\numpy\\.libs\\libopenblas.WCDJNK7YVMPZQ2ME2ZZHJJRJ3JIKNDB7.gfortran-win_amd64.dll\n",
      "  warnings.warn(\"loaded more than 1 DLL from .libs:\\n%s\" %\n"
     ]
    }
   ],
   "source": [
    "import numpy as np\n",
    "import pandas as pd\n",
    "import matplotlib.pyplot as plt\n",
    "import seaborn as sns\n",
    "\n",
    "from tqdm.notebook import tqdm\n",
    "\n",
    "from sklearn import datasets\n",
    "from sklearn.model_selection import train_test_split, GridSearchCV, cross_val_score\n",
    "\n",
    "from sklearn.preprocessing import StandardScaler, OneHotEncoder, LabelEncoder\n",
    "from sklearn.impute import SimpleImputer\n",
    "\n",
    "from sklearn.compose import make_column_transformer\n",
    "from sklearn.compose import make_column_selector\n",
    "\n",
    "# Regression models\n",
    "from sklearn.svm import SVR\n",
    "from sklearn.linear_model import SGDRegressor,ElasticNet,Ridge,LinearRegression,Lasso\n",
    "\n",
    "# Classification models\n",
    "from sklearn.linear_model import LogisticRegression, SGDClassifier\n",
    "from sklearn.svm import SVC\n",
    "from sklearn.neighbors import KNeighborsClassifier\n",
    "from sklearn.tree import DecisionTreeClassifier\n",
    "from sklearn.ensemble import RandomForestClassifier, BaggingClassifier, GradientBoostingClassifier"
   ]
  },
  {
   "cell_type": "markdown",
   "metadata": {
    "id": "rZRMVHA4ip7M"
   },
   "source": [
    "## Supervised Learning"
   ]
  },
  {
   "cell_type": "markdown",
   "metadata": {
    "id": "knAozH66ir9P"
   },
   "source": [
    "### Exercice 1\n",
    "---"
   ]
  },
  {
   "cell_type": "markdown",
   "metadata": {
    "id": "ANyKEhEEiuAr"
   },
   "source": [
    "#### 1) Load and return the boston dataset from sklearn.datasets"
   ]
  },
  {
   "cell_type": "code",
   "execution_count": 3,
   "metadata": {
    "id": "UFiX043KizRZ"
   },
   "outputs": [],
   "source": [
    "boston = datasets.load_boston()\n",
    "X = boston.data\n",
    "y = boston.target"
   ]
  },
  {
   "cell_type": "markdown",
   "metadata": {
    "id": "K3daU58aizrS"
   },
   "source": [
    "#### 2) Split the boston dataset into train data and test data"
   ]
  },
  {
   "cell_type": "code",
   "execution_count": 4,
   "metadata": {
    "id": "utbx2z0Bi8BJ"
   },
   "outputs": [],
   "source": [
    "X_train, X_test, y_train, y_test = train_test_split(X, y, test_size=0.3, random_state=0)"
   ]
  },
  {
   "cell_type": "markdown",
   "metadata": {
    "id": "HHdxuTOei8OK"
   },
   "source": [
    "#### 3) Standardize the data."
   ]
  },
  {
   "cell_type": "code",
   "execution_count": 5,
   "metadata": {
    "id": "KWPlSjfki_F7"
   },
   "outputs": [],
   "source": [
    "sc = StandardScaler()\n",
    "X_train = sc.fit_transform(X_train)\n",
    "X_test = sc.transform(X_test)"
   ]
  },
  {
   "cell_type": "markdown",
   "metadata": {
    "id": "Hj9nZvaRi_X3"
   },
   "source": [
    "#### 4) Train or fit the data into a model using the Support Vector Machine Learning algorithm and test it."
   ]
  },
  {
   "cell_type": "code",
   "execution_count": 6,
   "metadata": {
    "colab": {
     "base_uri": "https://localhost:8080/"
    },
    "id": "9OX2g6zOjFah",
    "outputId": "fc4589cb-ea7d-4044-d93a-53566ad8a5bb"
   },
   "outputs": [
    {
     "data": {
      "text/plain": [
       "0.5543454037359111"
      ]
     },
     "execution_count": 6,
     "metadata": {},
     "output_type": "execute_result"
    }
   ],
   "source": [
    "model = SVR()\n",
    "model.fit(X_train, y_train)\n",
    "model.score(X_test, y_test)"
   ]
  },
  {
   "cell_type": "markdown",
   "metadata": {
    "id": "opWFDq9ajFqu"
   },
   "source": [
    "#### 5) Select the best hyperparameters of the model using GridSearch."
   ]
  },
  {
   "cell_type": "code",
   "execution_count": 7,
   "metadata": {
    "colab": {
     "base_uri": "https://localhost:8080/"
    },
    "id": "YFKttepRjLJB",
    "outputId": "cb26a2fd-31c0-4206-c2fa-bd1073c526b6"
   },
   "outputs": [
    {
     "name": "stdout",
     "output_type": "stream",
     "text": [
      "{'C': 100, 'degree': 1, 'gamma': 'auto', 'kernel': 'rbf'} 0.8415871621688493\n"
     ]
    },
    {
     "data": {
      "text/plain": [
       "0.8191908769421343"
      ]
     },
     "execution_count": 7,
     "metadata": {},
     "output_type": "execute_result"
    }
   ],
   "source": [
    "parameters = {'C':[1, 10, 100],\n",
    "              'kernel':('linear', 'poly', 'rbf', 'sigmoid'), \n",
    "              'gamma':('scale','auto'),\n",
    "              'degree':np.arange(1,10)\n",
    "              }\n",
    "\n",
    "clf = GridSearchCV(estimator=SVR(),\n",
    "                  param_grid=parameters)\n",
    "\n",
    "clf.fit(X_train, y_train)\n",
    "print(clf.best_params_,\n",
    "      clf.best_score_)\n",
    "clf.score(X_test, y_test)"
   ]
  },
  {
   "cell_type": "markdown",
   "metadata": {
    "id": "4X4ahiZEjLYN"
   },
   "source": [
    "#### 6) Create a function to test the different hyperparameters."
   ]
  },
  {
   "cell_type": "code",
   "execution_count": 8,
   "metadata": {
    "id": "hpoecynukeN3"
   },
   "outputs": [],
   "source": [
    "def hyperparam_tuning(X_train, y_train, X_test, y_test, models_name, models, parameters_dict):\n",
    "    perf = dict()\n",
    "    with tqdm(total=len(models)) as bar:\n",
    "        for name, model, parameters in zip(model_names, models, parameters_dict):\n",
    "            clf = GridSearchCV(estimator=model,\n",
    "                              param_grid=parameters)\n",
    "            clf.fit(X_train, y_train)\n",
    "            perf[name] = {\"best_scores\": clf.best_score_,\n",
    "                          \"best_params\": clf.best_params_,\n",
    "                          \"test_score\": clf.score(X_test, y_test)}\n",
    "            bar.update(1)\n",
    "    return perf"
   ]
  },
  {
   "cell_type": "markdown",
   "metadata": {
    "id": "qgyc34ZqkeYK"
   },
   "source": [
    "#### 7) Train or fit the data using other algorithms."
   ]
  },
  {
   "cell_type": "code",
   "execution_count": 9,
   "metadata": {
    "colab": {
     "base_uri": "https://localhost:8080/"
    },
    "id": "-CJpgMRhszTQ",
    "outputId": "48ef4c69-ced9-44b0-c27d-61e69d828cc0"
   },
   "outputs": [
    {
     "name": "stdout",
     "output_type": "stream",
     "text": [
      "SGDRegressor : 0.6663566491366639\n",
      "ElasticNet : 0.5810435065985062\n",
      "Ridge : 0.6727737684528232\n",
      "LinearRegression : 0.6733825506400195\n",
      "Lasso : 0.5999442961470398\n",
      "svr : 0.5543454037359111\n"
     ]
    }
   ],
   "source": [
    "model_names = [\"SGDRegressor\", \"ElasticNet\", \"Ridge\", \"LinearRegression\", \"Lasso\",\"svr\"]\n",
    "models = [SGDRegressor(), ElasticNet(), Ridge(), LinearRegression(), Lasso(),SVR()]\n",
    "\n",
    "for name,model in zip(model_names,models):\n",
    "    model.fit(X_train, y_train)\n",
    "    print(name,\":\",model.score(X_test, y_test))"
   ]
  },
  {
   "cell_type": "markdown",
   "metadata": {
    "id": "nRyXIGHTkjUE"
   },
   "source": [
    "#### 8) Compare the performance of the different algorithms. Which is the best Model ?"
   ]
  },
  {
   "cell_type": "code",
   "execution_count": 12,
   "metadata": {
    "id": "f5_ZpgFk2S_x"
   },
   "outputs": [
    {
     "data": {
      "application/vnd.jupyter.widget-view+json": {
       "model_id": "1afe3b6189fe4f5ea24a68059dd75fa1",
       "version_major": 2,
       "version_minor": 0
      },
      "text/plain": [
       "HBox(children=(HTML(value=''), FloatProgress(value=0.0, max=6.0), HTML(value='')))"
      ]
     },
     "metadata": {},
     "output_type": "display_data"
    },
    {
     "name": "stderr",
     "output_type": "stream",
     "text": [
      "C:\\ProgramData\\Anaconda3\\lib\\site-packages\\sklearn\\linear_model\\_stochastic_gradient.py:1208: ConvergenceWarning: Maximum number of iteration reached before convergence. Consider increasing max_iter to improve the fit.\n",
      "  warnings.warn(\"Maximum number of iteration reached before \"\n",
      "C:\\ProgramData\\Anaconda3\\lib\\site-packages\\sklearn\\linear_model\\_stochastic_gradient.py:1208: ConvergenceWarning: Maximum number of iteration reached before convergence. Consider increasing max_iter to improve the fit.\n",
      "  warnings.warn(\"Maximum number of iteration reached before \"\n",
      "C:\\ProgramData\\Anaconda3\\lib\\site-packages\\sklearn\\linear_model\\_stochastic_gradient.py:1208: ConvergenceWarning: Maximum number of iteration reached before convergence. Consider increasing max_iter to improve the fit.\n",
      "  warnings.warn(\"Maximum number of iteration reached before \"\n",
      "C:\\ProgramData\\Anaconda3\\lib\\site-packages\\sklearn\\linear_model\\_coordinate_descent.py:529: ConvergenceWarning: Objective did not converge. You might want to increase the number of iterations. Duality gap: 5860.581987988636, tolerance: 2.4877064169611307\n",
      "  model = cd_fast.enet_coordinate_descent(\n",
      "C:\\ProgramData\\Anaconda3\\lib\\site-packages\\sklearn\\linear_model\\_coordinate_descent.py:529: ConvergenceWarning: Objective did not converge. You might want to increase the number of iterations. Duality gap: 5831.250005856204, tolerance: 2.5858938091872794\n",
      "  model = cd_fast.enet_coordinate_descent(\n",
      "C:\\ProgramData\\Anaconda3\\lib\\site-packages\\sklearn\\linear_model\\_coordinate_descent.py:529: ConvergenceWarning: Objective did not converge. You might want to increase the number of iterations. Duality gap: 5619.474675672644, tolerance: 2.4114527137809185\n",
      "  model = cd_fast.enet_coordinate_descent(\n",
      "C:\\ProgramData\\Anaconda3\\lib\\site-packages\\sklearn\\linear_model\\_coordinate_descent.py:529: ConvergenceWarning: Objective did not converge. You might want to increase the number of iterations. Duality gap: 4856.422762140583, tolerance: 2.105372197879859\n",
      "  model = cd_fast.enet_coordinate_descent(\n",
      "C:\\ProgramData\\Anaconda3\\lib\\site-packages\\sklearn\\linear_model\\_coordinate_descent.py:529: ConvergenceWarning: Objective did not converge. You might want to increase the number of iterations. Duality gap: 5705.998619503065, tolerance: 2.407356154929577\n",
      "  model = cd_fast.enet_coordinate_descent(\n",
      "C:\\ProgramData\\Anaconda3\\lib\\site-packages\\sklearn\\linear_model\\_coordinate_descent.py:529: ConvergenceWarning: Objective did not converge. You might want to increase the number of iterations. Duality gap: 5860.58198798864, tolerance: 2.4877064169611307\n",
      "  model = cd_fast.enet_coordinate_descent(\n",
      "C:\\ProgramData\\Anaconda3\\lib\\site-packages\\sklearn\\linear_model\\_coordinate_descent.py:529: ConvergenceWarning: Objective did not converge. You might want to increase the number of iterations. Duality gap: 5831.250005856217, tolerance: 2.5858938091872794\n",
      "  model = cd_fast.enet_coordinate_descent(\n",
      "C:\\ProgramData\\Anaconda3\\lib\\site-packages\\sklearn\\linear_model\\_coordinate_descent.py:529: ConvergenceWarning: Objective did not converge. You might want to increase the number of iterations. Duality gap: 5619.47467567265, tolerance: 2.4114527137809185\n",
      "  model = cd_fast.enet_coordinate_descent(\n",
      "C:\\ProgramData\\Anaconda3\\lib\\site-packages\\sklearn\\linear_model\\_coordinate_descent.py:529: ConvergenceWarning: Objective did not converge. You might want to increase the number of iterations. Duality gap: 4856.42276214057, tolerance: 2.105372197879859\n",
      "  model = cd_fast.enet_coordinate_descent(\n",
      "C:\\ProgramData\\Anaconda3\\lib\\site-packages\\sklearn\\linear_model\\_coordinate_descent.py:529: ConvergenceWarning: Objective did not converge. You might want to increase the number of iterations. Duality gap: 5705.998619503071, tolerance: 2.407356154929577\n",
      "  model = cd_fast.enet_coordinate_descent(\n",
      "C:\\ProgramData\\Anaconda3\\lib\\site-packages\\sklearn\\model_selection\\_validation.py:548: FitFailedWarning: Estimator fit failed. The score on this train-test partition for these parameters will be set to nan. Details: \n",
      "Traceback (most recent call last):\n",
      "  File \"C:\\ProgramData\\Anaconda3\\lib\\site-packages\\sklearn\\model_selection\\_validation.py\", line 531, in _fit_and_score\n",
      "    estimator.fit(X_train, y_train, **fit_params)\n",
      "  File \"C:\\ProgramData\\Anaconda3\\lib\\site-packages\\sklearn\\linear_model\\_ridge.py\", line 762, in fit\n",
      "    return super().fit(X, y, sample_weight=sample_weight)\n",
      "  File \"C:\\ProgramData\\Anaconda3\\lib\\site-packages\\sklearn\\linear_model\\_ridge.py\", line 593, in fit\n",
      "    self.coef_, self.n_iter_ = _ridge_regression(\n",
      "  File \"C:\\ProgramData\\Anaconda3\\lib\\site-packages\\sklearn\\linear_model\\_ridge.py\", line 397, in _ridge_regression\n",
      "    raise ValueError(\"Known solvers are 'sparse_cg', 'cholesky', 'svd'\"\n",
      "ValueError: Known solvers are 'sparse_cg', 'cholesky', 'svd' 'lsqr', 'sag' or 'saga'. Got lbfgs.\n",
      "\n",
      "  warnings.warn(\"Estimator fit failed. The score on this train-test\"\n",
      "C:\\ProgramData\\Anaconda3\\lib\\site-packages\\sklearn\\model_selection\\_validation.py:548: FitFailedWarning: Estimator fit failed. The score on this train-test partition for these parameters will be set to nan. Details: \n",
      "Traceback (most recent call last):\n",
      "  File \"C:\\ProgramData\\Anaconda3\\lib\\site-packages\\sklearn\\model_selection\\_validation.py\", line 531, in _fit_and_score\n",
      "    estimator.fit(X_train, y_train, **fit_params)\n",
      "  File \"C:\\ProgramData\\Anaconda3\\lib\\site-packages\\sklearn\\linear_model\\_ridge.py\", line 762, in fit\n",
      "    return super().fit(X, y, sample_weight=sample_weight)\n",
      "  File \"C:\\ProgramData\\Anaconda3\\lib\\site-packages\\sklearn\\linear_model\\_ridge.py\", line 593, in fit\n",
      "    self.coef_, self.n_iter_ = _ridge_regression(\n",
      "  File \"C:\\ProgramData\\Anaconda3\\lib\\site-packages\\sklearn\\linear_model\\_ridge.py\", line 397, in _ridge_regression\n",
      "    raise ValueError(\"Known solvers are 'sparse_cg', 'cholesky', 'svd'\"\n",
      "ValueError: Known solvers are 'sparse_cg', 'cholesky', 'svd' 'lsqr', 'sag' or 'saga'. Got lbfgs.\n",
      "\n",
      "  warnings.warn(\"Estimator fit failed. The score on this train-test\"\n",
      "C:\\ProgramData\\Anaconda3\\lib\\site-packages\\sklearn\\model_selection\\_validation.py:548: FitFailedWarning: Estimator fit failed. The score on this train-test partition for these parameters will be set to nan. Details: \n",
      "Traceback (most recent call last):\n",
      "  File \"C:\\ProgramData\\Anaconda3\\lib\\site-packages\\sklearn\\model_selection\\_validation.py\", line 531, in _fit_and_score\n",
      "    estimator.fit(X_train, y_train, **fit_params)\n",
      "  File \"C:\\ProgramData\\Anaconda3\\lib\\site-packages\\sklearn\\linear_model\\_ridge.py\", line 762, in fit\n",
      "    return super().fit(X, y, sample_weight=sample_weight)\n",
      "  File \"C:\\ProgramData\\Anaconda3\\lib\\site-packages\\sklearn\\linear_model\\_ridge.py\", line 593, in fit\n",
      "    self.coef_, self.n_iter_ = _ridge_regression(\n",
      "  File \"C:\\ProgramData\\Anaconda3\\lib\\site-packages\\sklearn\\linear_model\\_ridge.py\", line 397, in _ridge_regression\n",
      "    raise ValueError(\"Known solvers are 'sparse_cg', 'cholesky', 'svd'\"\n",
      "ValueError: Known solvers are 'sparse_cg', 'cholesky', 'svd' 'lsqr', 'sag' or 'saga'. Got lbfgs.\n",
      "\n",
      "  warnings.warn(\"Estimator fit failed. The score on this train-test\"\n",
      "C:\\ProgramData\\Anaconda3\\lib\\site-packages\\sklearn\\model_selection\\_validation.py:548: FitFailedWarning: Estimator fit failed. The score on this train-test partition for these parameters will be set to nan. Details: \n",
      "Traceback (most recent call last):\n",
      "  File \"C:\\ProgramData\\Anaconda3\\lib\\site-packages\\sklearn\\model_selection\\_validation.py\", line 531, in _fit_and_score\n",
      "    estimator.fit(X_train, y_train, **fit_params)\n",
      "  File \"C:\\ProgramData\\Anaconda3\\lib\\site-packages\\sklearn\\linear_model\\_ridge.py\", line 762, in fit\n",
      "    return super().fit(X, y, sample_weight=sample_weight)\n",
      "  File \"C:\\ProgramData\\Anaconda3\\lib\\site-packages\\sklearn\\linear_model\\_ridge.py\", line 593, in fit\n",
      "    self.coef_, self.n_iter_ = _ridge_regression(\n",
      "  File \"C:\\ProgramData\\Anaconda3\\lib\\site-packages\\sklearn\\linear_model\\_ridge.py\", line 397, in _ridge_regression\n",
      "    raise ValueError(\"Known solvers are 'sparse_cg', 'cholesky', 'svd'\"\n",
      "ValueError: Known solvers are 'sparse_cg', 'cholesky', 'svd' 'lsqr', 'sag' or 'saga'. Got lbfgs.\n",
      "\n",
      "  warnings.warn(\"Estimator fit failed. The score on this train-test\"\n",
      "C:\\ProgramData\\Anaconda3\\lib\\site-packages\\sklearn\\model_selection\\_validation.py:548: FitFailedWarning: Estimator fit failed. The score on this train-test partition for these parameters will be set to nan. Details: \n",
      "Traceback (most recent call last):\n",
      "  File \"C:\\ProgramData\\Anaconda3\\lib\\site-packages\\sklearn\\model_selection\\_validation.py\", line 531, in _fit_and_score\n",
      "    estimator.fit(X_train, y_train, **fit_params)\n",
      "  File \"C:\\ProgramData\\Anaconda3\\lib\\site-packages\\sklearn\\linear_model\\_ridge.py\", line 762, in fit\n",
      "    return super().fit(X, y, sample_weight=sample_weight)\n",
      "  File \"C:\\ProgramData\\Anaconda3\\lib\\site-packages\\sklearn\\linear_model\\_ridge.py\", line 593, in fit\n",
      "    self.coef_, self.n_iter_ = _ridge_regression(\n",
      "  File \"C:\\ProgramData\\Anaconda3\\lib\\site-packages\\sklearn\\linear_model\\_ridge.py\", line 397, in _ridge_regression\n",
      "    raise ValueError(\"Known solvers are 'sparse_cg', 'cholesky', 'svd'\"\n",
      "ValueError: Known solvers are 'sparse_cg', 'cholesky', 'svd' 'lsqr', 'sag' or 'saga'. Got lbfgs.\n",
      "\n",
      "  warnings.warn(\"Estimator fit failed. The score on this train-test\"\n"
     ]
    },
    {
     "name": "stdout",
     "output_type": "stream",
     "text": [
      "\n"
     ]
    }
   ],
   "source": [
    "model_names = [\"SGDRegressor\", \"ElasticNet\", \"Ridge\", \"LinearRegression\", \"Lasso\",\"svr\"]\n",
    "models = [SGDRegressor(), ElasticNet(), Ridge(), LinearRegression(), Lasso(),SVR()]\n",
    "parameters_dict = [{'loss':('huber', 'epsilon_insensitive', 'squared_epsilon_insensitive'),\n",
    "                  'penalty':('l2', 'l1', 'elasticnet')\n",
    "                  },\n",
    "                  {'l1_ratio':np.arange(0,1.1,0.1), \n",
    "                  'selection':('cyclic', 'random')\n",
    "                  },\n",
    "                  {'solver':('auto', 'svd', 'cholesky', 'lsqr', 'sparse_cg', 'sag', 'saga', 'lbfgs')\n",
    "                  },\n",
    "                  {\n",
    "                  },\n",
    "                  {'alpha':np.arange(0.1,2,0.1)\n",
    "                  },\n",
    "                  {'C':[1, 10, 100],\n",
    "                  'kernel':('linear', 'poly', 'rbf', 'sigmoid'), \n",
    "                  'gamma':('scale','auto'),\n",
    "                  'degree':np.arange(1,10)\n",
    "                  }]\n",
    "\n",
    "\n",
    "perf = hyperparam_tuning(X_train, y_train, X_test, y_test, model_names, models, parameters_dict)"
   ]
  },
  {
   "cell_type": "code",
   "execution_count": 13,
   "metadata": {
    "colab": {
     "base_uri": "https://localhost:8080/"
    },
    "id": "PNjsC2Nk2jNR",
    "outputId": "7ddba0ce-a37b-4574-c1f1-6a9c7559cfb2"
   },
   "outputs": [
    {
     "data": {
      "text/plain": [
       "{'SGDRegressor': {'best_scores': 0.7176132856900247,\n",
       "  'best_params': {'loss': 'epsilon_insensitive', 'penalty': 'l2'},\n",
       "  'test_score': 0.6175049168349676},\n",
       " 'ElasticNet': {'best_scores': 0.6774284745995518,\n",
       "  'best_params': {'l1_ratio': 1.0, 'selection': 'cyclic'},\n",
       "  'test_score': 0.5999442961470398},\n",
       " 'Ridge': {'best_scores': 0.7193287369531853,\n",
       "  'best_params': {'solver': 'saga'},\n",
       "  'test_score': 0.6726315392399356},\n",
       " 'LinearRegression': {'best_scores': 0.7183293974315904,\n",
       "  'best_params': {},\n",
       "  'test_score': 0.6733825506400195},\n",
       " 'Lasso': {'best_scores': 0.7165080728306277,\n",
       "  'best_params': {'alpha': 0.1},\n",
       "  'test_score': 0.6599647116559877},\n",
       " 'svr': {'best_scores': 0.8415871621688493,\n",
       "  'best_params': {'C': 100, 'degree': 1, 'gamma': 'auto', 'kernel': 'rbf'},\n",
       "  'test_score': 0.8191908769421343}}"
      ]
     },
     "execution_count": 13,
     "metadata": {},
     "output_type": "execute_result"
    }
   ],
   "source": [
    "perf"
   ]
  },
  {
   "cell_type": "markdown",
   "metadata": {
    "id": "RgOSuhNx1Js3"
   },
   "source": [
    "SVM is the best model."
   ]
  },
  {
   "cell_type": "markdown",
   "metadata": {
    "id": "h9Ytz1uOkqvm"
   },
   "source": [
    "### Exercice 2\n",
    "---"
   ]
  },
  {
   "cell_type": "markdown",
   "metadata": {
    "id": "V1GedeKzktn4"
   },
   "source": [
    "#### 1) Load and return the dataset titanic from seaborn library."
   ]
  },
  {
   "cell_type": "code",
   "execution_count": 17,
   "metadata": {
    "colab": {
     "base_uri": "https://localhost:8080/",
     "height": 423
    },
    "id": "fgfceQEzkylk",
    "outputId": "cfb8360a-5021-4dfc-ec10-997cbc7c7a09"
   },
   "outputs": [
    {
     "data": {
      "text/html": [
       "<div>\n",
       "<style scoped>\n",
       "    .dataframe tbody tr th:only-of-type {\n",
       "        vertical-align: middle;\n",
       "    }\n",
       "\n",
       "    .dataframe tbody tr th {\n",
       "        vertical-align: top;\n",
       "    }\n",
       "\n",
       "    .dataframe thead th {\n",
       "        text-align: right;\n",
       "    }\n",
       "</style>\n",
       "<table border=\"1\" class=\"dataframe\">\n",
       "  <thead>\n",
       "    <tr style=\"text-align: right;\">\n",
       "      <th></th>\n",
       "      <th>survived</th>\n",
       "      <th>pclass</th>\n",
       "      <th>sex</th>\n",
       "      <th>age</th>\n",
       "      <th>sibsp</th>\n",
       "      <th>parch</th>\n",
       "      <th>fare</th>\n",
       "      <th>embarked</th>\n",
       "      <th>class</th>\n",
       "      <th>who</th>\n",
       "      <th>adult_male</th>\n",
       "      <th>deck</th>\n",
       "      <th>embark_town</th>\n",
       "      <th>alive</th>\n",
       "      <th>alone</th>\n",
       "    </tr>\n",
       "  </thead>\n",
       "  <tbody>\n",
       "    <tr>\n",
       "      <th>0</th>\n",
       "      <td>0</td>\n",
       "      <td>3</td>\n",
       "      <td>male</td>\n",
       "      <td>22.0</td>\n",
       "      <td>1</td>\n",
       "      <td>0</td>\n",
       "      <td>7.2500</td>\n",
       "      <td>S</td>\n",
       "      <td>Third</td>\n",
       "      <td>man</td>\n",
       "      <td>True</td>\n",
       "      <td>NaN</td>\n",
       "      <td>Southampton</td>\n",
       "      <td>no</td>\n",
       "      <td>False</td>\n",
       "    </tr>\n",
       "    <tr>\n",
       "      <th>1</th>\n",
       "      <td>1</td>\n",
       "      <td>1</td>\n",
       "      <td>female</td>\n",
       "      <td>38.0</td>\n",
       "      <td>1</td>\n",
       "      <td>0</td>\n",
       "      <td>71.2833</td>\n",
       "      <td>C</td>\n",
       "      <td>First</td>\n",
       "      <td>woman</td>\n",
       "      <td>False</td>\n",
       "      <td>C</td>\n",
       "      <td>Cherbourg</td>\n",
       "      <td>yes</td>\n",
       "      <td>False</td>\n",
       "    </tr>\n",
       "    <tr>\n",
       "      <th>2</th>\n",
       "      <td>1</td>\n",
       "      <td>3</td>\n",
       "      <td>female</td>\n",
       "      <td>26.0</td>\n",
       "      <td>0</td>\n",
       "      <td>0</td>\n",
       "      <td>7.9250</td>\n",
       "      <td>S</td>\n",
       "      <td>Third</td>\n",
       "      <td>woman</td>\n",
       "      <td>False</td>\n",
       "      <td>NaN</td>\n",
       "      <td>Southampton</td>\n",
       "      <td>yes</td>\n",
       "      <td>True</td>\n",
       "    </tr>\n",
       "    <tr>\n",
       "      <th>3</th>\n",
       "      <td>1</td>\n",
       "      <td>1</td>\n",
       "      <td>female</td>\n",
       "      <td>35.0</td>\n",
       "      <td>1</td>\n",
       "      <td>0</td>\n",
       "      <td>53.1000</td>\n",
       "      <td>S</td>\n",
       "      <td>First</td>\n",
       "      <td>woman</td>\n",
       "      <td>False</td>\n",
       "      <td>C</td>\n",
       "      <td>Southampton</td>\n",
       "      <td>yes</td>\n",
       "      <td>False</td>\n",
       "    </tr>\n",
       "    <tr>\n",
       "      <th>4</th>\n",
       "      <td>0</td>\n",
       "      <td>3</td>\n",
       "      <td>male</td>\n",
       "      <td>35.0</td>\n",
       "      <td>0</td>\n",
       "      <td>0</td>\n",
       "      <td>8.0500</td>\n",
       "      <td>S</td>\n",
       "      <td>Third</td>\n",
       "      <td>man</td>\n",
       "      <td>True</td>\n",
       "      <td>NaN</td>\n",
       "      <td>Southampton</td>\n",
       "      <td>no</td>\n",
       "      <td>True</td>\n",
       "    </tr>\n",
       "    <tr>\n",
       "      <th>...</th>\n",
       "      <td>...</td>\n",
       "      <td>...</td>\n",
       "      <td>...</td>\n",
       "      <td>...</td>\n",
       "      <td>...</td>\n",
       "      <td>...</td>\n",
       "      <td>...</td>\n",
       "      <td>...</td>\n",
       "      <td>...</td>\n",
       "      <td>...</td>\n",
       "      <td>...</td>\n",
       "      <td>...</td>\n",
       "      <td>...</td>\n",
       "      <td>...</td>\n",
       "      <td>...</td>\n",
       "    </tr>\n",
       "    <tr>\n",
       "      <th>886</th>\n",
       "      <td>0</td>\n",
       "      <td>2</td>\n",
       "      <td>male</td>\n",
       "      <td>27.0</td>\n",
       "      <td>0</td>\n",
       "      <td>0</td>\n",
       "      <td>13.0000</td>\n",
       "      <td>S</td>\n",
       "      <td>Second</td>\n",
       "      <td>man</td>\n",
       "      <td>True</td>\n",
       "      <td>NaN</td>\n",
       "      <td>Southampton</td>\n",
       "      <td>no</td>\n",
       "      <td>True</td>\n",
       "    </tr>\n",
       "    <tr>\n",
       "      <th>887</th>\n",
       "      <td>1</td>\n",
       "      <td>1</td>\n",
       "      <td>female</td>\n",
       "      <td>19.0</td>\n",
       "      <td>0</td>\n",
       "      <td>0</td>\n",
       "      <td>30.0000</td>\n",
       "      <td>S</td>\n",
       "      <td>First</td>\n",
       "      <td>woman</td>\n",
       "      <td>False</td>\n",
       "      <td>B</td>\n",
       "      <td>Southampton</td>\n",
       "      <td>yes</td>\n",
       "      <td>True</td>\n",
       "    </tr>\n",
       "    <tr>\n",
       "      <th>888</th>\n",
       "      <td>0</td>\n",
       "      <td>3</td>\n",
       "      <td>female</td>\n",
       "      <td>NaN</td>\n",
       "      <td>1</td>\n",
       "      <td>2</td>\n",
       "      <td>23.4500</td>\n",
       "      <td>S</td>\n",
       "      <td>Third</td>\n",
       "      <td>woman</td>\n",
       "      <td>False</td>\n",
       "      <td>NaN</td>\n",
       "      <td>Southampton</td>\n",
       "      <td>no</td>\n",
       "      <td>False</td>\n",
       "    </tr>\n",
       "    <tr>\n",
       "      <th>889</th>\n",
       "      <td>1</td>\n",
       "      <td>1</td>\n",
       "      <td>male</td>\n",
       "      <td>26.0</td>\n",
       "      <td>0</td>\n",
       "      <td>0</td>\n",
       "      <td>30.0000</td>\n",
       "      <td>C</td>\n",
       "      <td>First</td>\n",
       "      <td>man</td>\n",
       "      <td>True</td>\n",
       "      <td>C</td>\n",
       "      <td>Cherbourg</td>\n",
       "      <td>yes</td>\n",
       "      <td>True</td>\n",
       "    </tr>\n",
       "    <tr>\n",
       "      <th>890</th>\n",
       "      <td>0</td>\n",
       "      <td>3</td>\n",
       "      <td>male</td>\n",
       "      <td>32.0</td>\n",
       "      <td>0</td>\n",
       "      <td>0</td>\n",
       "      <td>7.7500</td>\n",
       "      <td>Q</td>\n",
       "      <td>Third</td>\n",
       "      <td>man</td>\n",
       "      <td>True</td>\n",
       "      <td>NaN</td>\n",
       "      <td>Queenstown</td>\n",
       "      <td>no</td>\n",
       "      <td>True</td>\n",
       "    </tr>\n",
       "  </tbody>\n",
       "</table>\n",
       "<p>891 rows × 15 columns</p>\n",
       "</div>"
      ],
      "text/plain": [
       "     survived  pclass     sex   age  sibsp  parch     fare embarked   class  \\\n",
       "0           0       3    male  22.0      1      0   7.2500        S   Third   \n",
       "1           1       1  female  38.0      1      0  71.2833        C   First   \n",
       "2           1       3  female  26.0      0      0   7.9250        S   Third   \n",
       "3           1       1  female  35.0      1      0  53.1000        S   First   \n",
       "4           0       3    male  35.0      0      0   8.0500        S   Third   \n",
       "..        ...     ...     ...   ...    ...    ...      ...      ...     ...   \n",
       "886         0       2    male  27.0      0      0  13.0000        S  Second   \n",
       "887         1       1  female  19.0      0      0  30.0000        S   First   \n",
       "888         0       3  female   NaN      1      2  23.4500        S   Third   \n",
       "889         1       1    male  26.0      0      0  30.0000        C   First   \n",
       "890         0       3    male  32.0      0      0   7.7500        Q   Third   \n",
       "\n",
       "       who  adult_male deck  embark_town alive  alone  \n",
       "0      man        True  NaN  Southampton    no  False  \n",
       "1    woman       False    C    Cherbourg   yes  False  \n",
       "2    woman       False  NaN  Southampton   yes   True  \n",
       "3    woman       False    C  Southampton   yes  False  \n",
       "4      man        True  NaN  Southampton    no   True  \n",
       "..     ...         ...  ...          ...   ...    ...  \n",
       "886    man        True  NaN  Southampton    no   True  \n",
       "887  woman       False    B  Southampton   yes   True  \n",
       "888  woman       False  NaN  Southampton    no  False  \n",
       "889    man        True    C    Cherbourg   yes   True  \n",
       "890    man        True  NaN   Queenstown    no   True  \n",
       "\n",
       "[891 rows x 15 columns]"
      ]
     },
     "execution_count": 17,
     "metadata": {},
     "output_type": "execute_result"
    }
   ],
   "source": [
    "titanic = sns.load_dataset('titanic')\n",
    "titanic"
   ]
  },
  {
   "cell_type": "markdown",
   "metadata": {
    "id": "AGMOFAWJkyv0"
   },
   "source": [
    "#### 2) Use different machine learning models to predict the survival of titanic passengers."
   ]
  },
  {
   "cell_type": "markdown",
   "metadata": {
    "id": "CKBxFqF4gVBX"
   },
   "source": [
    "Type of Machine Learning: Supervised Learning  \n",
    "Type of problem: Classification"
   ]
  },
  {
   "cell_type": "code",
   "execution_count": 18,
   "metadata": {
    "colab": {
     "base_uri": "https://localhost:8080/"
    },
    "id": "82MnZPBok4wx",
    "outputId": "b2658e1a-a1db-4659-b90d-92e9a9c64a56"
   },
   "outputs": [
    {
     "name": "stdout",
     "output_type": "stream",
     "text": [
      "Percentage of nan value for each column of the dataset\n"
     ]
    },
    {
     "data": {
      "text/plain": [
       "survived        0.000000\n",
       "pclass          0.000000\n",
       "sex             0.000000\n",
       "age            19.865320\n",
       "sibsp           0.000000\n",
       "parch           0.000000\n",
       "fare            0.000000\n",
       "embarked        0.224467\n",
       "class           0.000000\n",
       "who             0.000000\n",
       "adult_male      0.000000\n",
       "deck           77.216611\n",
       "embark_town     0.224467\n",
       "alive           0.000000\n",
       "alone           0.000000\n",
       "dtype: float64"
      ]
     },
     "execution_count": 18,
     "metadata": {},
     "output_type": "execute_result"
    }
   ],
   "source": [
    "print(\"Percentage of nan value for each column of the dataset\")\n",
    "100*titanic.isnull().sum(axis=0)/titanic.shape[0]"
   ]
  },
  {
   "cell_type": "code",
   "execution_count": 19,
   "metadata": {
    "colab": {
     "base_uri": "https://localhost:8080/",
     "height": 357
    },
    "id": "snAiQWnFjw5f",
    "outputId": "4dfc4644-abc8-4184-82f7-3b7e872cd02b"
   },
   "outputs": [
    {
     "data": {
      "text/plain": [
       "Text(0.5, 1.0, 'Missing values heatmap')"
      ]
     },
     "execution_count": 19,
     "metadata": {},
     "output_type": "execute_result"
    },
    {
     "data": {
      "image/png": "[encoded data removed]",
      "text/plain": [
       "<Figure size 432x288 with 1 Axes>"
      ]
     },
     "metadata": {
      "needs_background": "light"
     },
     "output_type": "display_data"
    }
   ],
   "source": [
    "sns.heatmap(titanic.isnull(), cbar = False).set_title(\"Missing values heatmap\")"
   ]
  },
  {
   "cell_type": "code",
   "execution_count": 20,
   "metadata": {
    "id": "soj_HWGrgUXm"
   },
   "outputs": [],
   "source": [
    "X = titanic.drop(\"survived\", axis=1)\n",
    "y = titanic[\"survived\"]"
   ]
  },
  {
   "cell_type": "markdown",
   "metadata": {
    "id": "zfWBlVClhuly"
   },
   "source": [
    "Selected features\n",
    "- Qualitative:\n",
    "  - **pclass**\n",
    "  - **age** \n",
    "  - **sibsp** \n",
    "  - **parch** \n",
    "  - **fare** \n",
    "  - **alone**\n",
    "  - **adult_male** \n",
    "- Quantitative:\n",
    "  - **embarked** \n",
    "  \n",
    "Not selected features:  \n",
    "- class: same as pclass\n",
    "- adult_male: same as sex\n",
    "- deck: too much nan values\n",
    "- embark_town: irrelevant\n",
    "- alive: irrelevant\n",
    "- who: same as sex\n"
   ]
  },
  {
   "cell_type": "code",
   "execution_count": 21,
   "metadata": {
    "id": "kk4AptmshuVW"
   },
   "outputs": [],
   "source": [
    "X = X.loc[:,[\"pclass\", \n",
    "             \"age\",\n",
    "             \"sibsp\",\n",
    "             \"parch\",\n",
    "             \"fare\",\n",
    "             \"alone\",\n",
    "             \"adult_male\",\n",
    "             \"embarked\"]]"
   ]
  },
  {
   "cell_type": "code",
   "execution_count": 22,
   "metadata": {
    "id": "mgLGNyhXqThn"
   },
   "outputs": [],
   "source": [
    "X_train, X_test, y_train, y_test = train_test_split(X, y, test_size=0.3, random_state=0)"
   ]
  },
  {
   "cell_type": "markdown",
   "metadata": {
    "id": "vhPgKRZX-02h"
   },
   "source": [
    "##### Imputer"
   ]
  },
  {
   "cell_type": "code",
   "execution_count": 23,
   "metadata": {
    "id": "GNFxHiP4C0tU"
   },
   "outputs": [],
   "source": [
    "simple_imputer_cat = SimpleImputer(strategy=\"most_frequent\")\n",
    "simple_imputer = SimpleImputer(strategy=\"mean\")"
   ]
  },
  {
   "cell_type": "code",
   "execution_count": 24,
   "metadata": {
    "id": "fVoirNQIsEBQ"
   },
   "outputs": [
    {
     "name": "stderr",
     "output_type": "stream",
     "text": [
      "C:\\ProgramData\\Anaconda3\\lib\\site-packages\\pandas\\core\\indexing.py:1736: SettingWithCopyWarning: \n",
      "A value is trying to be set on a copy of a slice from a DataFrame.\n",
      "Try using .loc[row_indexer,col_indexer] = value instead\n",
      "\n",
      "See the caveats in the documentation: https://pandas.pydata.org/pandas-docs/stable/user_guide/indexing.html#returning-a-view-versus-a-copy\n",
      "  isetter(loc, value[:, i].tolist())\n",
      "C:\\ProgramData\\Anaconda3\\lib\\site-packages\\pandas\\core\\indexing.py:1736: SettingWithCopyWarning: \n",
      "A value is trying to be set on a copy of a slice from a DataFrame.\n",
      "Try using .loc[row_indexer,col_indexer] = value instead\n",
      "\n",
      "See the caveats in the documentation: https://pandas.pydata.org/pandas-docs/stable/user_guide/indexing.html#returning-a-view-versus-a-copy\n",
      "  isetter(loc, value[:, i].tolist())\n",
      "C:\\ProgramData\\Anaconda3\\lib\\site-packages\\pandas\\core\\indexing.py:1745: SettingWithCopyWarning: \n",
      "A value is trying to be set on a copy of a slice from a DataFrame.\n",
      "Try using .loc[row_indexer,col_indexer] = value instead\n",
      "\n",
      "See the caveats in the documentation: https://pandas.pydata.org/pandas-docs/stable/user_guide/indexing.html#returning-a-view-versus-a-copy\n",
      "  isetter(ilocs[0], value)\n",
      "C:\\ProgramData\\Anaconda3\\lib\\site-packages\\pandas\\core\\indexing.py:1736: SettingWithCopyWarning: \n",
      "A value is trying to be set on a copy of a slice from a DataFrame.\n",
      "Try using .loc[row_indexer,col_indexer] = value instead\n",
      "\n",
      "See the caveats in the documentation: https://pandas.pydata.org/pandas-docs/stable/user_guide/indexing.html#returning-a-view-versus-a-copy\n",
      "  isetter(loc, value[:, i].tolist())\n"
     ]
    }
   ],
   "source": [
    "X_train.loc[:,\"age\"] = simple_imputer.fit_transform(X_train.age.values.reshape(-1,1))\n",
    "X_test.loc[:,\"age\"] = simple_imputer.transform(X_test.age.values.reshape(-1,1))\n",
    "\n",
    "X_train.loc[:,\"embarked\"] = simple_imputer_cat.fit_transform(X_train.embarked.values.reshape(-1,1)).reshape(-1)\n",
    "X_test.loc[:,\"embarked\"] = simple_imputer_cat.transform(X_test.embarked.values.reshape(-1,1))"
   ]
  },
  {
   "cell_type": "markdown",
   "metadata": {
    "id": "MNx-V7ax-9q_"
   },
   "source": [
    "##### Scaling"
   ]
  },
  {
   "cell_type": "code",
   "execution_count": 25,
   "metadata": {
    "id": "Cd4N80rUC2I6"
   },
   "outputs": [],
   "source": [
    "scaler = StandardScaler()"
   ]
  },
  {
   "cell_type": "code",
   "execution_count": 26,
   "metadata": {
    "id": "Pjtui9Ww_VRs"
   },
   "outputs": [
    {
     "name": "stderr",
     "output_type": "stream",
     "text": [
      "C:\\ProgramData\\Anaconda3\\lib\\site-packages\\pandas\\core\\indexing.py:1736: SettingWithCopyWarning: \n",
      "A value is trying to be set on a copy of a slice from a DataFrame.\n",
      "Try using .loc[row_indexer,col_indexer] = value instead\n",
      "\n",
      "See the caveats in the documentation: https://pandas.pydata.org/pandas-docs/stable/user_guide/indexing.html#returning-a-view-versus-a-copy\n",
      "  isetter(loc, value[:, i].tolist())\n",
      "C:\\ProgramData\\Anaconda3\\lib\\site-packages\\pandas\\core\\indexing.py:1736: SettingWithCopyWarning: \n",
      "A value is trying to be set on a copy of a slice from a DataFrame.\n",
      "Try using .loc[row_indexer,col_indexer] = value instead\n",
      "\n",
      "See the caveats in the documentation: https://pandas.pydata.org/pandas-docs/stable/user_guide/indexing.html#returning-a-view-versus-a-copy\n",
      "  isetter(loc, value[:, i].tolist())\n"
     ]
    }
   ],
   "source": [
    "X_train.loc[:,[\"age\",\"fare\"]] = scaler.fit_transform(X_train[[\"age\",\"fare\"]])\n",
    "X_test.loc[:,[\"age\",\"fare\"]] = scaler.transform(X_test[[\"age\",\"fare\"]])"
   ]
  },
  {
   "cell_type": "markdown",
   "metadata": {
    "id": "5UpAq3UahgNu"
   },
   "source": [
    "##### Encoding"
   ]
  },
  {
   "cell_type": "code",
   "execution_count": 27,
   "metadata": {
    "id": "9oDcR1Pf_5l5"
   },
   "outputs": [
    {
     "name": "stderr",
     "output_type": "stream",
     "text": [
      "C:\\ProgramData\\Anaconda3\\lib\\site-packages\\pandas\\core\\indexing.py:1745: SettingWithCopyWarning: \n",
      "A value is trying to be set on a copy of a slice from a DataFrame.\n",
      "Try using .loc[row_indexer,col_indexer] = value instead\n",
      "\n",
      "See the caveats in the documentation: https://pandas.pydata.org/pandas-docs/stable/user_guide/indexing.html#returning-a-view-versus-a-copy\n",
      "  isetter(ilocs[0], value)\n"
     ]
    }
   ],
   "source": [
    "X_train.loc[:,\"alone\"] = X_train[\"alone\"].astype(int)\n",
    "X_test.loc[:,\"alone\"] = X_test[\"alone\"].astype(int)\n",
    "\n",
    "X_train.loc[:,\"adult_male\"] = X_train[\"adult_male\"].astype(int)\n",
    "X_test.loc[:,\"adult_male\"] = X_test[\"adult_male\"].astype(int)"
   ]
  },
  {
   "cell_type": "markdown",
   "metadata": {
    "id": "SBOdE3le_CqJ"
   },
   "source": [
    "###### One Hot"
   ]
  },
  {
   "cell_type": "code",
   "execution_count": 28,
   "metadata": {
    "id": "rcYEPdzPhpHd"
   },
   "outputs": [],
   "source": [
    "#one_hot_encoder = OneHotEncoder()"
   ]
  },
  {
   "cell_type": "code",
   "execution_count": 29,
   "metadata": {
    "colab": {
     "base_uri": "https://localhost:8080/",
     "height": 54
    },
    "id": "CxJ4edaUNJUB",
    "outputId": "88d88ce7-dc8b-4983-b338-b77ea739b053"
   },
   "outputs": [
    {
     "data": {
      "text/plain": [
       "'X_train[X_train.embarked.unique()] = one_hot_encoder.fit_transform(X_train.embarked.values.reshape(-1,1)).toarray()\\nX_test[X_train.embarked.unique()] = one_hot_encoder.transform(X_test.embarked.values.reshape(-1,1)).toarray()\\n\\nX_train.drop(\"embarked\",axis=1,inplace=True)\\nX_test.drop(\"embarked\",axis=1,inplace=True)'"
      ]
     },
     "execution_count": 29,
     "metadata": {},
     "output_type": "execute_result"
    }
   ],
   "source": [
    "\"\"\"X_train[X_train.embarked.unique()] = one_hot_encoder.fit_transform(X_train.embarked.values.reshape(-1,1)).toarray()\n",
    "X_test[X_train.embarked.unique()] = one_hot_encoder.transform(X_test.embarked.values.reshape(-1,1)).toarray()\n",
    "\n",
    "X_train.drop(\"embarked\",axis=1,inplace=True)\n",
    "X_test.drop(\"embarked\",axis=1,inplace=True)\"\"\""
   ]
  },
  {
   "cell_type": "markdown",
   "metadata": {
    "id": "x1ZzYixH_FU4"
   },
   "source": [
    "###### Label"
   ]
  },
  {
   "cell_type": "code",
   "execution_count": 30,
   "metadata": {
    "id": "izU8gdPv_HWA"
   },
   "outputs": [],
   "source": [
    "label_encoder = LabelEncoder()"
   ]
  },
  {
   "cell_type": "code",
   "execution_count": 31,
   "metadata": {
    "id": "T4go1hugNNLW"
   },
   "outputs": [],
   "source": [
    "X_train.loc[:,\"embarked\"] = label_encoder.fit_transform(X_train.embarked.values)\n",
    "X_test.loc[:,\"embarked\"] = label_encoder.transform(X_test.embarked.values)"
   ]
  },
  {
   "cell_type": "code",
   "execution_count": 32,
   "metadata": {
    "colab": {
     "base_uri": "https://localhost:8080/",
     "height": 423
    },
    "id": "dLMuaw6WNOTa",
    "outputId": "7776f76e-fdce-416b-f870-12b5af6382a9"
   },
   "outputs": [
    {
     "data": {
      "text/html": [
       "<div>\n",
       "<style scoped>\n",
       "    .dataframe tbody tr th:only-of-type {\n",
       "        vertical-align: middle;\n",
       "    }\n",
       "\n",
       "    .dataframe tbody tr th {\n",
       "        vertical-align: top;\n",
       "    }\n",
       "\n",
       "    .dataframe thead th {\n",
       "        text-align: right;\n",
       "    }\n",
       "</style>\n",
       "<table border=\"1\" class=\"dataframe\">\n",
       "  <thead>\n",
       "    <tr style=\"text-align: right;\">\n",
       "      <th></th>\n",
       "      <th>pclass</th>\n",
       "      <th>age</th>\n",
       "      <th>sibsp</th>\n",
       "      <th>parch</th>\n",
       "      <th>fare</th>\n",
       "      <th>alone</th>\n",
       "      <th>adult_male</th>\n",
       "      <th>embarked</th>\n",
       "    </tr>\n",
       "  </thead>\n",
       "  <tbody>\n",
       "    <tr>\n",
       "      <th>857</th>\n",
       "      <td>1</td>\n",
       "      <td>1.620744</td>\n",
       "      <td>0</td>\n",
       "      <td>0</td>\n",
       "      <td>-0.122530</td>\n",
       "      <td>1</td>\n",
       "      <td>1</td>\n",
       "      <td>2</td>\n",
       "    </tr>\n",
       "    <tr>\n",
       "      <th>52</th>\n",
       "      <td>1</td>\n",
       "      <td>1.467007</td>\n",
       "      <td>1</td>\n",
       "      <td>0</td>\n",
       "      <td>0.918124</td>\n",
       "      <td>0</td>\n",
       "      <td>0</td>\n",
       "      <td>0</td>\n",
       "    </tr>\n",
       "    <tr>\n",
       "      <th>386</th>\n",
       "      <td>3</td>\n",
       "      <td>-2.222675</td>\n",
       "      <td>5</td>\n",
       "      <td>2</td>\n",
       "      <td>0.299503</td>\n",
       "      <td>0</td>\n",
       "      <td>0</td>\n",
       "      <td>2</td>\n",
       "    </tr>\n",
       "    <tr>\n",
       "      <th>124</th>\n",
       "      <td>1</td>\n",
       "      <td>1.851349</td>\n",
       "      <td>0</td>\n",
       "      <td>1</td>\n",
       "      <td>0.929702</td>\n",
       "      <td>0</td>\n",
       "      <td>1</td>\n",
       "      <td>2</td>\n",
       "    </tr>\n",
       "    <tr>\n",
       "      <th>578</th>\n",
       "      <td>3</td>\n",
       "      <td>0.000000</td>\n",
       "      <td>1</td>\n",
       "      <td>0</td>\n",
       "      <td>-0.373297</td>\n",
       "      <td>0</td>\n",
       "      <td>0</td>\n",
       "      <td>0</td>\n",
       "    </tr>\n",
       "    <tr>\n",
       "      <th>...</th>\n",
       "      <td>...</td>\n",
       "      <td>...</td>\n",
       "      <td>...</td>\n",
       "      <td>...</td>\n",
       "      <td>...</td>\n",
       "      <td>...</td>\n",
       "      <td>...</td>\n",
       "      <td>...</td>\n",
       "    </tr>\n",
       "    <tr>\n",
       "      <th>835</th>\n",
       "      <td>1</td>\n",
       "      <td>0.698323</td>\n",
       "      <td>1</td>\n",
       "      <td>1</td>\n",
       "      <td>1.051455</td>\n",
       "      <td>0</td>\n",
       "      <td>0</td>\n",
       "      <td>0</td>\n",
       "    </tr>\n",
       "    <tr>\n",
       "      <th>192</th>\n",
       "      <td>3</td>\n",
       "      <td>-0.839044</td>\n",
       "      <td>1</td>\n",
       "      <td>0</td>\n",
       "      <td>-0.510258</td>\n",
       "      <td>0</td>\n",
       "      <td>0</td>\n",
       "      <td>2</td>\n",
       "    </tr>\n",
       "    <tr>\n",
       "      <th>629</th>\n",
       "      <td>3</td>\n",
       "      <td>0.000000</td>\n",
       "      <td>0</td>\n",
       "      <td>0</td>\n",
       "      <td>-0.512765</td>\n",
       "      <td>1</td>\n",
       "      <td>1</td>\n",
       "      <td>1</td>\n",
       "    </tr>\n",
       "    <tr>\n",
       "      <th>559</th>\n",
       "      <td>3</td>\n",
       "      <td>0.467718</td>\n",
       "      <td>1</td>\n",
       "      <td>0</td>\n",
       "      <td>-0.312290</td>\n",
       "      <td>0</td>\n",
       "      <td>0</td>\n",
       "      <td>2</td>\n",
       "    </tr>\n",
       "    <tr>\n",
       "      <th>684</th>\n",
       "      <td>2</td>\n",
       "      <td>2.312559</td>\n",
       "      <td>1</td>\n",
       "      <td>1</td>\n",
       "      <td>0.135667</td>\n",
       "      <td>0</td>\n",
       "      <td>1</td>\n",
       "      <td>2</td>\n",
       "    </tr>\n",
       "  </tbody>\n",
       "</table>\n",
       "<p>623 rows × 8 columns</p>\n",
       "</div>"
      ],
      "text/plain": [
       "     pclass       age  sibsp  parch      fare  alone  adult_male  embarked\n",
       "857       1  1.620744      0      0 -0.122530      1           1         2\n",
       "52        1  1.467007      1      0  0.918124      0           0         0\n",
       "386       3 -2.222675      5      2  0.299503      0           0         2\n",
       "124       1  1.851349      0      1  0.929702      0           1         2\n",
       "578       3  0.000000      1      0 -0.373297      0           0         0\n",
       "..      ...       ...    ...    ...       ...    ...         ...       ...\n",
       "835       1  0.698323      1      1  1.051455      0           0         0\n",
       "192       3 -0.839044      1      0 -0.510258      0           0         2\n",
       "629       3  0.000000      0      0 -0.512765      1           1         1\n",
       "559       3  0.467718      1      0 -0.312290      0           0         2\n",
       "684       2  2.312559      1      1  0.135667      0           1         2\n",
       "\n",
       "[623 rows x 8 columns]"
      ]
     },
     "execution_count": 32,
     "metadata": {},
     "output_type": "execute_result"
    }
   ],
   "source": [
    "X_train"
   ]
  },
  {
   "cell_type": "markdown",
   "metadata": {
    "id": "_50FS0EjNs4w"
   },
   "source": [
    "Models"
   ]
  },
  {
   "cell_type": "code",
   "execution_count": 33,
   "metadata": {
    "colab": {
     "base_uri": "https://localhost:8080/"
    },
    "id": "RohvgT73PEwS",
    "outputId": "b25c5072-425a-4fff-bb8b-b39a4f94cd56"
   },
   "outputs": [
    {
     "name": "stdout",
     "output_type": "stream",
     "text": [
      "LogisticRegression : 0.8208955223880597\n",
      "SVC : 0.8097014925373134\n",
      "KNeighborsClassifier : 0.7761194029850746\n",
      "DecisionTreeClassifier : 0.7761194029850746\n",
      "RandomForestClassifier : 0.8097014925373134\n",
      "BaggingClassifier : 0.8022388059701493\n",
      "GradientBoostingClassifier : 0.8208955223880597\n",
      "SGDClassifier : 0.7947761194029851\n"
     ]
    }
   ],
   "source": [
    "model_names = [\"LogisticRegression\", \"SVC\", \"KNeighborsClassifier\", \"DecisionTreeClassifier\", \"RandomForestClassifier\", \"BaggingClassifier\", \"GradientBoostingClassifier\", \"SGDClassifier\"]\n",
    "models = [LogisticRegression(), SVC(), KNeighborsClassifier(), DecisionTreeClassifier(), RandomForestClassifier(), BaggingClassifier(), GradientBoostingClassifier(), SGDClassifier()]\n",
    "\n",
    "for name,model in zip(model_names,models):\n",
    "    model.fit(X_train, y_train)\n",
    "    print(name,\":\",model.score(X_test, y_test))"
   ]
  },
  {
   "cell_type": "code",
   "execution_count": 34,
   "metadata": {
    "id": "ceqc-oa5NuMh"
   },
   "outputs": [],
   "source": [
    "def hyperparam_tuning(X_train, y_train, X_test, y_test, models_name, models, parameters_dict):\n",
    "    perf = dict()\n",
    "    with tqdm(total=len(models)) as bar:\n",
    "        for name, model, parameters in zip(model_names, models, parameters_dict):\n",
    "            print(name)\n",
    "            clf = GridSearchCV(estimator=model,\n",
    "                              param_grid=parameters)\n",
    "            clf.fit(X_train, y_train)\n",
    "            perf[name] = {\"best_scores\": clf.best_score_,\n",
    "                          \"best_params\": clf.best_params_,\n",
    "                          \"test_score\": clf.score(X_test, y_test)}\n",
    "            bar.update(1)\n",
    "    return perf"
   ]
  },
  {
   "cell_type": "code",
   "execution_count": 35,
   "metadata": {
    "id": "EZMwKVL6PfIg"
   },
   "outputs": [],
   "source": [
    "parameters_dict = [{'C':[10, 100],\n",
    "                  'penalty':('l2', 'l1', 'elasticnet')\n",
    "                  },\n",
    "                  {'C':[1, 10, 100],\n",
    "                   'kernel':('linear', 'poly', 'rbf', 'sigmoid'),\n",
    "                  },\n",
    "                  {'n_neighbors':np.arange(2,20),\n",
    "                  'p':np.arange(1,4),\n",
    "                  'weights':('uniform','distance')\n",
    "                  },\n",
    "                  {\n",
    "                  },\n",
    "                  {'n_estimators':np.arange(50,250,10)\n",
    "                  },\n",
    "                  {'n_estimators':np.arange(10,1000,80)\n",
    "                  },\n",
    "                  {'loss':('deviance', 'exponential'),\n",
    "                   'learning_rate':np.arange(0.01,1,0.01)\n",
    "                  },\n",
    "                  {'penalty':('l2', 'l1', 'elasticnet')\n",
    "                  }]"
   ]
  },
  {
   "cell_type": "code",
   "execution_count": 36,
   "metadata": {
    "colab": {
     "base_uri": "https://localhost:8080/",
     "height": 768,
     "referenced_widgets": [
      "27fbdd9e95254ae9850a3ff5708f5198",
      "751e2772f7bd492993f622f20ea04aa6",
      "4e3d66d5d06f47f8bdb98f968c10c767",
      "a1f5bc2f7e394805b36f19fe2ff42e2a",
      "f0d06f7084f641e982f3e6fc659efdb8",
      "bac11a1dd93e4b63ba4a150eb982faab",
      "2841d578056e4ca18de4d483cb6e8ab3",
      "939d5db6b84e4c4ea204ee6ab51b2163",
      "cff62e3fe6ba4d59941c92e9cae11224",
      "54ef6a12ab9d498c956708f17fb7ddde",
      "c0a0cc9c3daf47cab2b129db0f87c84d"
     ]
    },
    "id": "gSzNGvpxNxm5",
    "outputId": "cd48ee2d-c900-4934-e1da-20f9ee825c77"
   },
   "outputs": [
    {
     "data": {
      "application/vnd.jupyter.widget-view+json": {
       "model_id": "b864ac98872244c5b4fca08d7bbd7d36",
       "version_major": 2,
       "version_minor": 0
      },
      "text/plain": [
       "HBox(children=(HTML(value=''), FloatProgress(value=0.0, max=8.0), HTML(value='')))"
      ]
     },
     "metadata": {},
     "output_type": "display_data"
    },
    {
     "name": "stdout",
     "output_type": "stream",
     "text": [
      "LogisticRegression\n"
     ]
    },
    {
     "name": "stderr",
     "output_type": "stream",
     "text": [
      "C:\\ProgramData\\Anaconda3\\lib\\site-packages\\sklearn\\model_selection\\_validation.py:548: FitFailedWarning: Estimator fit failed. The score on this train-test partition for these parameters will be set to nan. Details: \n",
      "Traceback (most recent call last):\n",
      "  File \"C:\\ProgramData\\Anaconda3\\lib\\site-packages\\sklearn\\model_selection\\_validation.py\", line 531, in _fit_and_score\n",
      "    estimator.fit(X_train, y_train, **fit_params)\n",
      "  File \"C:\\ProgramData\\Anaconda3\\lib\\site-packages\\sklearn\\linear_model\\_logistic.py\", line 1304, in fit\n",
      "    solver = _check_solver(self.solver, self.penalty, self.dual)\n",
      "  File \"C:\\ProgramData\\Anaconda3\\lib\\site-packages\\sklearn\\linear_model\\_logistic.py\", line 442, in _check_solver\n",
      "    raise ValueError(\"Solver %s supports only 'l2' or 'none' penalties, \"\n",
      "ValueError: Solver lbfgs supports only 'l2' or 'none' penalties, got l1 penalty.\n",
      "\n",
      "  warnings.warn(\"Estimator fit failed. The score on this train-test\"\n",
      "C:\\ProgramData\\Anaconda3\\lib\\site-packages\\sklearn\\model_selection\\_validation.py:548: FitFailedWarning: Estimator fit failed. The score on this train-test partition for these parameters will be set to nan. Details: \n",
      "Traceback (most recent call last):\n",
      "  File \"C:\\ProgramData\\Anaconda3\\lib\\site-packages\\sklearn\\model_selection\\_validation.py\", line 531, in _fit_and_score\n",
      "    estimator.fit(X_train, y_train, **fit_params)\n",
      "  File \"C:\\ProgramData\\Anaconda3\\lib\\site-packages\\sklearn\\linear_model\\_logistic.py\", line 1304, in fit\n",
      "    solver = _check_solver(self.solver, self.penalty, self.dual)\n",
      "  File \"C:\\ProgramData\\Anaconda3\\lib\\site-packages\\sklearn\\linear_model\\_logistic.py\", line 442, in _check_solver\n",
      "    raise ValueError(\"Solver %s supports only 'l2' or 'none' penalties, \"\n",
      "ValueError: Solver lbfgs supports only 'l2' or 'none' penalties, got elasticnet penalty.\n",
      "\n",
      "  warnings.warn(\"Estimator fit failed. The score on this train-test\"\n",
      "C:\\ProgramData\\Anaconda3\\lib\\site-packages\\sklearn\\model_selection\\_validation.py:548: FitFailedWarning: Estimator fit failed. The score on this train-test partition for these parameters will be set to nan. Details: \n",
      "Traceback (most recent call last):\n",
      "  File \"C:\\ProgramData\\Anaconda3\\lib\\site-packages\\sklearn\\model_selection\\_validation.py\", line 531, in _fit_and_score\n",
      "    estimator.fit(X_train, y_train, **fit_params)\n",
      "  File \"C:\\ProgramData\\Anaconda3\\lib\\site-packages\\sklearn\\linear_model\\_logistic.py\", line 1304, in fit\n",
      "    solver = _check_solver(self.solver, self.penalty, self.dual)\n",
      "  File \"C:\\ProgramData\\Anaconda3\\lib\\site-packages\\sklearn\\linear_model\\_logistic.py\", line 442, in _check_solver\n",
      "    raise ValueError(\"Solver %s supports only 'l2' or 'none' penalties, \"\n",
      "ValueError: Solver lbfgs supports only 'l2' or 'none' penalties, got l1 penalty.\n",
      "\n",
      "  warnings.warn(\"Estimator fit failed. The score on this train-test\"\n",
      "C:\\ProgramData\\Anaconda3\\lib\\site-packages\\sklearn\\model_selection\\_validation.py:548: FitFailedWarning: Estimator fit failed. The score on this train-test partition for these parameters will be set to nan. Details: \n",
      "Traceback (most recent call last):\n",
      "  File \"C:\\ProgramData\\Anaconda3\\lib\\site-packages\\sklearn\\model_selection\\_validation.py\", line 531, in _fit_and_score\n",
      "    estimator.fit(X_train, y_train, **fit_params)\n",
      "  File \"C:\\ProgramData\\Anaconda3\\lib\\site-packages\\sklearn\\linear_model\\_logistic.py\", line 1304, in fit\n",
      "    solver = _check_solver(self.solver, self.penalty, self.dual)\n",
      "  File \"C:\\ProgramData\\Anaconda3\\lib\\site-packages\\sklearn\\linear_model\\_logistic.py\", line 442, in _check_solver\n",
      "    raise ValueError(\"Solver %s supports only 'l2' or 'none' penalties, \"\n",
      "ValueError: Solver lbfgs supports only 'l2' or 'none' penalties, got elasticnet penalty.\n",
      "\n",
      "  warnings.warn(\"Estimator fit failed. The score on this train-test\"\n"
     ]
    },
    {
     "name": "stdout",
     "output_type": "stream",
     "text": [
      "SVC\n",
      "KNeighborsClassifier\n",
      "DecisionTreeClassifier\n",
      "RandomForestClassifier\n",
      "BaggingClassifier\n",
      "GradientBoostingClassifier\n",
      "SGDClassifier\n",
      "\n"
     ]
    }
   ],
   "source": [
    "perf = hyperparam_tuning(X_train, y_train, X_test, y_test, model_names, models, parameters_dict)"
   ]
  },
  {
   "cell_type": "markdown",
   "metadata": {
    "id": "XFCHxZCjk5Ch"
   },
   "source": [
    "#### 3) Which is the best model?"
   ]
  },
  {
   "cell_type": "code",
   "execution_count": 37,
   "metadata": {
    "colab": {
     "base_uri": "https://localhost:8080/"
    },
    "id": "DOfFFzNZk7s7",
    "outputId": "26f8d463-0c3b-43e3-8e7f-348011bd6d5f"
   },
   "outputs": [
    {
     "data": {
      "text/plain": [
       "{'LogisticRegression': {'best_scores': 0.8218838709677418,\n",
       "  'best_params': {'C': 10, 'penalty': 'l2'},\n",
       "  'test_score': 0.8208955223880597},\n",
       " 'SVC': {'best_scores': 0.8283096774193549,\n",
       "  'best_params': {'C': 1, 'kernel': 'rbf'},\n",
       "  'test_score': 0.8097014925373134},\n",
       " 'KNeighborsClassifier': {'best_scores': 0.816941935483871,\n",
       "  'best_params': {'n_neighbors': 16, 'p': 1, 'weights': 'uniform'},\n",
       "  'test_score': 0.8208955223880597},\n",
       " 'DecisionTreeClassifier': {'best_scores': 0.7624645161290322,\n",
       "  'best_params': {},\n",
       "  'test_score': 0.7835820895522388},\n",
       " 'RandomForestClassifier': {'best_scores': 0.7913548387096775,\n",
       "  'best_params': {'n_estimators': 180},\n",
       "  'test_score': 0.8059701492537313},\n",
       " 'BaggingClassifier': {'best_scores': 0.8009677419354839,\n",
       "  'best_params': {'n_estimators': 650},\n",
       "  'test_score': 0.8022388059701493},\n",
       " 'GradientBoostingClassifier': {'best_scores': 0.8443483870967741,\n",
       "  'best_params': {'learning_rate': 0.03, 'loss': 'deviance'},\n",
       "  'test_score': 0.8171641791044776},\n",
       " 'SGDClassifier': {'best_scores': 0.8122193548387097,\n",
       "  'best_params': {'penalty': 'elasticnet'},\n",
       "  'test_score': 0.8171641791044776}}"
      ]
     },
     "execution_count": 37,
     "metadata": {},
     "output_type": "execute_result"
    }
   ],
   "source": [
    "perf"
   ]
  },
  {
   "cell_type": "markdown",
   "metadata": {
    "id": "bcoFWaW4Pl7S"
   },
   "source": [
    "The best model are KNeighborsClassifier and LogisticRegression."
   ]
  }
 ],
 "metadata": {
  "colab": {
   "collapsed_sections": [],
   "name": "Tutorial_5_Python_Data_Analysis.ipynb",
   "provenance": []
  },
  "kernelspec": {
   "display_name": "Python 3",
   "language": "python",
   "name": "python3"
  },
  "language_info": {
   "codemirror_mode": {
    "name": "ipython",
    "version": 3
   },
   "file_extension": ".py",
   "mimetype": "text/x-python",
   "name": "python",
   "nbconvert_exporter": "python",
   "pygments_lexer": "ipython3",
   "version": "3.8.5"
  },
  "widgets": {
   "application/vnd.jupyter.widget-state+json": {
    "27fbdd9e95254ae9850a3ff5708f5198": {
     "model_module": "@jupyter-widgets/controls",
     "model_module_version": "1.5.0",
     "model_name": "HBoxModel",
     "state": {
      "_dom_classes": [],
      "_model_module": "@jupyter-widgets/controls",
      "_model_module_version": "1.5.0",
      "_model_name": "HBoxModel",
      "_view_count": null,
      "_view_module": "@jupyter-widgets/controls",
      "_view_module_version": "1.5.0",
      "_view_name": "HBoxView",
      "box_style": "",
      "children": [
       "IPY_MODEL_4e3d66d5d06f47f8bdb98f968c10c767",
       "IPY_MODEL_a1f5bc2f7e394805b36f19fe2ff42e2a",
       "IPY_MODEL_f0d06f7084f641e982f3e6fc659efdb8"
      ],
      "layout": "IPY_MODEL_751e2772f7bd492993f622f20ea04aa6"
     }
    },
    "2841d578056e4ca18de4d483cb6e8ab3": {
     "model_module": "@jupyter-widgets/base",
     "model_module_version": "1.2.0",
     "model_name": "LayoutModel",
     "state": {
      "_model_module": "@jupyter-widgets/base",
      "_model_module_version": "1.2.0",
      "_model_name": "LayoutModel",
      "_view_count": null,
      "_view_module": "@jupyter-widgets/base",
      "_view_module_version": "1.2.0",
      "_view_name": "LayoutView",
      "align_content": null,
      "align_items": null,
      "align_self": null,
      "border": null,
      "bottom": null,
      "display": null,
      "flex": null,
      "flex_flow": null,
      "grid_area": null,
      "grid_auto_columns": null,
      "grid_auto_flow": null,
      "grid_auto_rows": null,
      "grid_column": null,
      "grid_gap": null,
      "grid_row": null,
      "grid_template_areas": null,
      "grid_template_columns": null,
      "grid_template_rows": null,
      "height": null,
      "justify_content": null,
      "justify_items": null,
      "left": null,
      "margin": null,
      "max_height": null,
      "max_width": null,
      "min_height": null,
      "min_width": null,
      "object_fit": null,
      "object_position": null,
      "order": null,
      "overflow": null,
      "overflow_x": null,
      "overflow_y": null,
      "padding": null,
      "right": null,
      "top": null,
      "visibility": null,
      "width": null
     }
    },
    "4e3d66d5d06f47f8bdb98f968c10c767": {
     "model_module": "@jupyter-widgets/controls",
     "model_module_version": "1.5.0",
     "model_name": "HTMLModel",
     "state": {
      "_dom_classes": [],
      "_model_module": "@jupyter-widgets/controls",
      "_model_module_version": "1.5.0",
      "_model_name": "HTMLModel",
      "_view_count": null,
      "_view_module": "@jupyter-widgets/controls",
      "_view_module_version": "1.5.0",
      "_view_name": "HTMLView",
      "description": "",
      "description_tooltip": null,
      "layout": "IPY_MODEL_2841d578056e4ca18de4d483cb6e8ab3",
      "placeholder": "​",
      "style": "IPY_MODEL_bac11a1dd93e4b63ba4a150eb982faab",
      "value": "100%"
     }
    },
    "54ef6a12ab9d498c956708f17fb7ddde": {
     "model_module": "@jupyter-widgets/controls",
     "model_module_version": "1.5.0",
     "model_name": "DescriptionStyleModel",
     "state": {
      "_model_module": "@jupyter-widgets/controls",
      "_model_module_version": "1.5.0",
      "_model_name": "DescriptionStyleModel",
      "_view_count": null,
      "_view_module": "@jupyter-widgets/base",
      "_view_module_version": "1.2.0",
      "_view_name": "StyleView",
      "description_width": ""
     }
    },
    "751e2772f7bd492993f622f20ea04aa6": {
     "model_module": "@jupyter-widgets/base",
     "model_module_version": "1.2.0",
     "model_name": "LayoutModel",
     "state": {
      "_model_module": "@jupyter-widgets/base",
      "_model_module_version": "1.2.0",
      "_model_name": "LayoutModel",
      "_view_count": null,
      "_view_module": "@jupyter-widgets/base",
      "_view_module_version": "1.2.0",
      "_view_name": "LayoutView",
      "align_content": null,
      "align_items": null,
      "align_self": null,
      "border": null,
      "bottom": null,
      "display": null,
      "flex": null,
      "flex_flow": null,
      "grid_area": null,
      "grid_auto_columns": null,
      "grid_auto_flow": null,
      "grid_auto_rows": null,
      "grid_column": null,
      "grid_gap": null,
      "grid_row": null,
      "grid_template_areas": null,
      "grid_template_columns": null,
      "grid_template_rows": null,
      "height": null,
      "justify_content": null,
      "justify_items": null,
      "left": null,
      "margin": null,
      "max_height": null,
      "max_width": null,
      "min_height": null,
      "min_width": null,
      "object_fit": null,
      "object_position": null,
      "order": null,
      "overflow": null,
      "overflow_x": null,
      "overflow_y": null,
      "padding": null,
      "right": null,
      "top": null,
      "visibility": null,
      "width": null
     }
    },
    "939d5db6b84e4c4ea204ee6ab51b2163": {
     "model_module": "@jupyter-widgets/controls",
     "model_module_version": "1.5.0",
     "model_name": "ProgressStyleModel",
     "state": {
      "_model_module": "@jupyter-widgets/controls",
      "_model_module_version": "1.5.0",
      "_model_name": "ProgressStyleModel",
      "_view_count": null,
      "_view_module": "@jupyter-widgets/base",
      "_view_module_version": "1.2.0",
      "_view_name": "StyleView",
      "bar_color": null,
      "description_width": ""
     }
    },
    "a1f5bc2f7e394805b36f19fe2ff42e2a": {
     "model_module": "@jupyter-widgets/controls",
     "model_module_version": "1.5.0",
     "model_name": "FloatProgressModel",
     "state": {
      "_dom_classes": [],
      "_model_module": "@jupyter-widgets/controls",
      "_model_module_version": "1.5.0",
      "_model_name": "FloatProgressModel",
      "_view_count": null,
      "_view_module": "@jupyter-widgets/controls",
      "_view_module_version": "1.5.0",
      "_view_name": "ProgressView",
      "bar_style": "success",
      "description": "",
      "description_tooltip": null,
      "layout": "IPY_MODEL_cff62e3fe6ba4d59941c92e9cae11224",
      "max": 8,
      "min": 0,
      "orientation": "horizontal",
      "style": "IPY_MODEL_939d5db6b84e4c4ea204ee6ab51b2163",
      "value": 8
     }
    },
    "bac11a1dd93e4b63ba4a150eb982faab": {
     "model_module": "@jupyter-widgets/controls",
     "model_module_version": "1.5.0",
     "model_name": "DescriptionStyleModel",
     "state": {
      "_model_module": "@jupyter-widgets/controls",
      "_model_module_version": "1.5.0",
      "_model_name": "DescriptionStyleModel",
      "_view_count": null,
      "_view_module": "@jupyter-widgets/base",
      "_view_module_version": "1.2.0",
      "_view_name": "StyleView",
      "description_width": ""
     }
    },
    "c0a0cc9c3daf47cab2b129db0f87c84d": {
     "model_module": "@jupyter-widgets/base",
     "model_module_version": "1.2.0",
     "model_name": "LayoutModel",
     "state": {
      "_model_module": "@jupyter-widgets/base",
      "_model_module_version": "1.2.0",
      "_model_name": "LayoutModel",
      "_view_count": null,
      "_view_module": "@jupyter-widgets/base",
      "_view_module_version": "1.2.0",
      "_view_name": "LayoutView",
      "align_content": null,
      "align_items": null,
      "align_self": null,
      "border": null,
      "bottom": null,
      "display": null,
      "flex": null,
      "flex_flow": null,
      "grid_area": null,
      "grid_auto_columns": null,
      "grid_auto_flow": null,
      "grid_auto_rows": null,
      "grid_column": null,
      "grid_gap": null,
      "grid_row": null,
      "grid_template_areas": null,
      "grid_template_columns": null,
      "grid_template_rows": null,
      "height": null,
      "justify_content": null,
      "justify_items": null,
      "left": null,
      "margin": null,
      "max_height": null,
      "max_width": null,
      "min_height": null,
      "min_width": null,
      "object_fit": null,
      "object_position": null,
      "order": null,
      "overflow": null,
      "overflow_x": null,
      "overflow_y": null,
      "padding": null,
      "right": null,
      "top": null,
      "visibility": null,
      "width": null
     }
    },
    "cff62e3fe6ba4d59941c92e9cae11224": {
     "model_module": "@jupyter-widgets/base",
     "model_module_version": "1.2.0",
     "model_name": "LayoutModel",
     "state": {
      "_model_module": "@jupyter-widgets/base",
      "_model_module_version": "1.2.0",
      "_model_name": "LayoutModel",
      "_view_count": null,
      "_view_module": "@jupyter-widgets/base",
      "_view_module_version": "1.2.0",
      "_view_name": "LayoutView",
      "align_content": null,
      "align_items": null,
      "align_self": null,
      "border": null,
      "bottom": null,
      "display": null,
      "flex": null,
      "flex_flow": null,
      "grid_area": null,
      "grid_auto_columns": null,
      "grid_auto_flow": null,
      "grid_auto_rows": null,
      "grid_column": null,
      "grid_gap": null,
      "grid_row": null,
      "grid_template_areas": null,
      "grid_template_columns": null,
      "grid_template_rows": null,
      "height": null,
      "justify_content": null,
      "justify_items": null,
      "left": null,
      "margin": null,
      "max_height": null,
      "max_width": null,
      "min_height": null,
      "min_width": null,
      "object_fit": null,
      "object_position": null,
      "order": null,
      "overflow": null,
      "overflow_x": null,
      "overflow_y": null,
      "padding": null,
      "right": null,
      "top": null,
      "visibility": null,
      "width": null
     }
    },
    "f0d06f7084f641e982f3e6fc659efdb8": {
     "model_module": "@jupyter-widgets/controls",
     "model_module_version": "1.5.0",
     "model_name": "HTMLModel",
     "state": {
      "_dom_classes": [],
      "_model_module": "@jupyter-widgets/controls",
      "_model_module_version": "1.5.0",
      "_model_name": "HTMLModel",
      "_view_count": null,
      "_view_module": "@jupyter-widgets/controls",
      "_view_module_version": "1.5.0",
      "_view_name": "HTMLView",
      "description": "",
      "description_tooltip": null,
      "layout": "IPY_MODEL_c0a0cc9c3daf47cab2b129db0f87c84d",
      "placeholder": "​",
      "style": "IPY_MODEL_54ef6a12ab9d498c956708f17fb7ddde",
      "value": " 8/8 [03:22&lt;00:00, 32.95s/it]"
     }
    }
   }
  }
 },
 "nbformat": 4,
 "nbformat_minor": 1
}
