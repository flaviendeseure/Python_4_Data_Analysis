{
  "nbformat": 4,
  "nbformat_minor": 0,
  "metadata": {
    "colab": {
      "name": "Tutorial_1_Python_Data_Analysis.ipynb",
      "provenance": [],
      "collapsed_sections": []
    },
    "kernelspec": {
      "name": "python3",
      "display_name": "Python 3"
    },
    "language_info": {
      "name": "python"
    }
  },
  "cells": [
    {
      "cell_type": "markdown",
      "metadata": {
        "id": "view-in-github"
      },
      "source": [
        "<a href=\"https://colab.research.google.com/drive/1164DNkxLUc_uhradOZQAbGvd6gHKy08r?usp=sharing\" target=\"_parent\"><img src=\"https://colab.research.google.com/assets/colab-badge.svg\" alt=\"Open In Colab\"/></a>"
      ]
    },
    {
      "cell_type": "markdown",
      "metadata": {
        "id": "vDFIUnEwTEap"
      },
      "source": [
        "# Tutorial 1 - Python For Data Analysis 🐍 \n",
        "\n",
        "---\n",
        "\n",
        "## Basics of Python 🌱 "
      ]
    },
    {
      "cell_type": "markdown",
      "metadata": {
        "id": "4vZmx4svsEWM"
      },
      "source": [
        "### *Table of Contents*\n",
        "\n",
        "- [Exercise 1](#exercise-1) : List\n",
        "- [Exercise 2](#exercise-2) : Lambda\n",
        "- [Exercise 3](#exercise-3) : Dictionary\n",
        "- [Exercise 4](#exercise-4) : Tuples, Sets\n",
        "- [Exercice 5](#exercise-5) : Dates\n",
        "- [Exercise 6](#exercise-6) : File I/O\n",
        "\n",
        "If you have any questions or remarks about the course or this tutorial, feel free to contact imen.ouled_dlala@devinci.fr or yann.kervella.pro@gmail.com ! 😊"
      ]
    },
    {
      "cell_type": "markdown",
      "metadata": {
        "id": "FLqTjhd4y0Ts"
      },
      "source": [
        "### Requirements"
      ]
    },
    {
      "cell_type": "code",
      "metadata": {
        "id": "690W_WeZyzqk"
      },
      "source": [
        "from datetime import datetime, date, time, timedelta\n",
        "import pytz\n",
        "import re"
      ],
      "execution_count": 1,
      "outputs": []
    },
    {
      "cell_type": "markdown",
      "metadata": {
        "id": "JpFs22a7YTve"
      },
      "source": [
        "<a name=\"exercise-1\">\n",
        "\n",
        "### Exercise 1 : List\n",
        "---\n",
        "\n",
        "• Write a program to print a specified list after removing the 0th, 4th and 5th elements. \n",
        "\n",
        "- *Sample List*: ['Red', 'Green', 'White', 'Black', 'Pink', 'Yellow']\n",
        "\n",
        "- *Expected Output*: ['Green', 'White', 'Black']\n",
        "\n",
        "\n"
      ]
    },
    {
      "cell_type": "code",
      "metadata": {
        "id": "tll-PnLLp3Dr"
      },
      "source": [
        "def del_index(sample_list, unwanted_indexes):\n",
        "    all_indexes = set(range(len(sample_list)))\n",
        "    unwanted_indexes = set(unwanted_indexes)\n",
        "    for index in sorted(s.intersection(u), reverse=True):\n",
        "        del sample_list[index]"
      ],
      "execution_count": 10,
      "outputs": []
    },
    {
      "cell_type": "code",
      "metadata": {
        "colab": {
          "base_uri": "https://localhost:8080/"
        },
        "id": "-2lw7q-fJ2Sn",
        "outputId": "230f6d49-e95e-4cdc-c2c3-a355c2768394"
      },
      "source": [
        "sample_list = [\"Red\", \"Green\", \"White\", \"Black\", \"Pink\", \"Yellow\"]\n",
        "unwanted_indexes = [0,4,5]\n",
        "\n",
        "print(\"Case 1: All unwanted indexes correspond to an index on the sample list\")\n",
        "print(\"Avant:\",sample_list, sep=\"\\n\")\n",
        "del_index(sample_list, unwanted_indexes)\n",
        "print(\"Après:\",sample_list, sep=\"\\n\")\n",
        "\n",
        "sample_list = [\"Red\", \"Green\", \"White\", \"Black\", \"Pink\", \"Yellow\"]\n",
        "unwanted_indexes = [0,4,6]\n",
        "\n",
        "print(\"\\nCase 2: Some unwanted indexes don't correspond to an index on the sample list\")\n",
        "print(\"Avant:\",sample_list, sep=\"\\n\")\n",
        "del_index(sample_list, unwanted_indexes)\n",
        "print(\"Après:\",sample_list, sep=\"\\n\")"
      ],
      "execution_count": 13,
      "outputs": [
        {
          "output_type": "stream",
          "name": "stdout",
          "text": [
            "Case 1: All unwanted indexes correspond to an index on the sample list\n",
            "Avant:\n",
            "['Red', 'Green', 'White', 'Black', 'Pink', 'Yellow']\n",
            "Après:\n",
            "['Green', 'White', 'Black']\n",
            "\n",
            "Case 2: Some unwanted indexes don't correspond to an index on the sample list\n",
            "Avant:\n",
            "['Red', 'Green', 'White', 'Black', 'Pink', 'Yellow']\n",
            "Après:\n",
            "['Green', 'White', 'Black']\n"
          ]
        }
      ]
    },
    {
      "cell_type": "markdown",
      "metadata": {
        "id": "L-kRPYHtpyn6"
      },
      "source": [
        "• Write a program to check whether two lists are circularly identical.\n"
      ]
    },
    {
      "cell_type": "code",
      "metadata": {
        "id": "_3uXR_kDQOOU",
        "colab": {
          "base_uri": "https://localhost:8080/"
        },
        "outputId": "f85b5017-6443-4374-8622-15a655963fe4"
      },
      "source": [
        "def is_circularly_identical(l1,l2):\n",
        "    l1.extend(l1) \n",
        "    for i in range(len(l1)):\n",
        "        if l2 == l1[i:i + len(l2)]:\n",
        "          return True\n",
        "    return False\n",
        "\n",
        "l1 = [1,2,3,4]\n",
        "l2 = [4,1,2,3]\n",
        "print(\"l1 and l2\", \"are\" if is_circularly_identical(l1,l2) else \"aren't\", \"circularly identical.\")\n",
        "\n",
        "l3 = [3,1,2,4]\n",
        "print(\"l1 and l2\", \"are\" if is_circularly_identical(l1,l3) else \"aren't\", \"circularly identical.\")"
      ],
      "execution_count": 79,
      "outputs": [
        {
          "output_type": "stream",
          "name": "stdout",
          "text": [
            "l1 and l2 are circularly identical.\n",
            "l1 and l2 aren't circularly identical.\n"
          ]
        }
      ]
    },
    {
      "cell_type": "markdown",
      "metadata": {
        "id": "labqqrPEp0WZ"
      },
      "source": [
        "• Giving the following list [33, 56, 4, 80, 23, 100, 1, 0, 40, 11], write a program to extract:\n",
        "- the elements from 0 (included) to 7 (excluded)\n",
        "- the last element of the list\n",
        "- the last 3 elements of the list\n",
        "\n",
        "\n"
      ]
    },
    {
      "cell_type": "code",
      "metadata": {
        "id": "KxqdxuKep4B6"
      },
      "source": [
        "list_ = [33, 56, 4, 80, 23, 100, 1, 0, 40, 11]\n",
        "first_seven_ele = list_[0:7]\n",
        "print(first_seven_ele)\n",
        "\n",
        "last_ele = list_[-1]\n",
        "print(last_ele)\n",
        "\n",
        "last_three_ele = list_[-3:]\n",
        "print(last_three_ele)"
      ],
      "execution_count": null,
      "outputs": []
    },
    {
      "cell_type": "markdown",
      "metadata": {
        "id": "_71yk3m5p2ZL"
      },
      "source": [
        "• Write a program to get a list, sorted in increasing order by the last element in each tuple from a given list of non-empty tuples.\n",
        "\n",
        "- *Sample List* : [(2, 5), (1, 2), (4, 4), (2, 3), (2, 1)] \n",
        "\n",
        "- *Expected Result* : [(2, 1), (1, 2), (2, 3), (4, 4), (2, 5)]"
      ]
    },
    {
      "cell_type": "code",
      "metadata": {
        "id": "Kilm6EzSp4mV",
        "colab": {
          "base_uri": "https://localhost:8080/"
        },
        "outputId": "25b1f1e7-6d8c-4ef0-f0be-687f3b5af001"
      },
      "source": [
        "sample_list = [(2,5), (1,2), (4,4), (2,3), (2,1)]\n",
        "print(\"Avant le tri\", sample_list, sep=\"\\n\")\n",
        "\n",
        "sample_list.sort(key=lambda x: x[-1])\n",
        "print(\"Après le tri\", sample_list, sep=\"\\n\")"
      ],
      "execution_count": 14,
      "outputs": [
        {
          "output_type": "stream",
          "name": "stdout",
          "text": [
            "Avant le tri\n",
            "[(2, 5), (1, 2), (4, 4), (2, 3), (2, 1)]\n",
            "Après le tri\n",
            "[(2, 1), (1, 2), (2, 3), (4, 4), (2, 5)]\n"
          ]
        }
      ]
    },
    {
      "cell_type": "markdown",
      "metadata": {
        "id": "EzJfdnlaT0cp"
      },
      "source": [
        "<a name=\"exercise-2\">\n",
        "\n",
        "### Exercise 2\n",
        "---\n",
        "\n",
        "• Write a program to **square and cube** every number in a given list of integers using **Lambda**.\n",
        "\n",
        "- Original list of integers:\n",
        "[1, 2, 3, 4, 5, 6, 7, 8, 9, 10]\n",
        "\n",
        "- Square every number of the said list:\n",
        "[1, 4, 9, 16, 25, 36, 49, 64, 81, 100]\n",
        "\n",
        "- Cube every number of the said list:\n",
        "[1, 8, 27, 64, 125, 216, 343, 512, 729, 1000]"
      ]
    },
    {
      "cell_type": "code",
      "metadata": {
        "id": "1ebs9VAuqGCX",
        "colab": {
          "base_uri": "https://localhost:8080/"
        },
        "outputId": "c5326d21-c8f3-48fa-9252-f94a699cd365"
      },
      "source": [
        "sample_list = list(range(1,11))"
      ],
      "execution_count": 16,
      "outputs": [
        {
          "output_type": "stream",
          "name": "stdout",
          "text": [
            "[1, 2, 3, 4, 5, 6, 7, 8, 9, 10]\n",
            "([1, 4, 9, 16, 25, 36, 49, 64, 81, 100], [1, 8, 27, 64, 125, 216, 343, 512, 729, 1000])\n"
          ]
        }
      ]
    },
    {
      "cell_type": "code",
      "metadata": {
        "colab": {
          "base_uri": "https://localhost:8080/"
        },
        "id": "XhGgk5kmN-SD",
        "outputId": "fd595c79-18c1-410b-97ac-4e35c70fddbf"
      },
      "source": [
        "# Method 1\n",
        "squared_and_cube_list = lambda sample_list: tuple([nb**i for nb in sample_list] for i in [2,3])\n",
        "\n",
        "print(\"Original list of integers:\", sample_list)\n",
        "result = squared_and_cube_list(sample_list)\n",
        "print(\"Square every number of the said list:\", result[0])\n",
        "print(\"Cube every number of the said list:\", result[1])"
      ],
      "execution_count": 17,
      "outputs": [
        {
          "output_type": "stream",
          "name": "stdout",
          "text": [
            "Original list of integers: [1, 2, 3, 4, 5, 6, 7, 8, 9, 10]\n",
            "Square every number of the said list: [1, 4, 9, 16, 25, 36, 49, 64, 81, 100]\n",
            "Cube every number of the said list: [1, 8, 27, 64, 125, 216, 343, 512, 729, 1000]\n"
          ]
        }
      ]
    },
    {
      "cell_type": "code",
      "metadata": {
        "id": "4AkkbI7gWoHE",
        "colab": {
          "base_uri": "https://localhost:8080/"
        },
        "outputId": "faf6c695-0218-44d6-c16b-234fe090281d"
      },
      "source": [
        "# Method 2\n",
        "print(\"Original list of integers:\",sample_list)\n",
        "print(\"Square every number of the said list:\", list(map(lambda nb: nb**2,sample_list)))\n",
        "print(\"Cube every number of the said list:\", list(map(lambda nb: nb**3,sample_list)))"
      ],
      "execution_count": 18,
      "outputs": [
        {
          "output_type": "stream",
          "name": "stdout",
          "text": [
            "Original list of integers: [1, 2, 3, 4, 5, 6, 7, 8, 9, 10]\n",
            "Square every number of the said list: [1, 4, 9, 16, 25, 36, 49, 64, 81, 100]\n",
            "Cube every number of the said list: [1, 8, 27, 64, 125, 216, 343, 512, 729, 1000]\n"
          ]
        }
      ]
    },
    {
      "cell_type": "markdown",
      "metadata": {
        "id": "Mb25kK7nTD26"
      },
      "source": [
        "<a name=\"exercise-3\">\n",
        "\n",
        "### Exercise 3 : Dictionary\n",
        "\n",
        "---\n",
        "\n",
        "• Write a script to check whether a given key already exists in a dictionary.\n",
        "\n"
      ]
    },
    {
      "cell_type": "code",
      "metadata": {
        "id": "4a11mMGSjNse"
      },
      "source": [
        "sample_dict = {\"name\": \"Jefferson\", \"birth_date\": \"1999-21-09\", \"gender\": \"Male\"}"
      ],
      "execution_count": 19,
      "outputs": []
    },
    {
      "cell_type": "code",
      "metadata": {
        "id": "z6Lw29geqvse",
        "colab": {
          "base_uri": "https://localhost:8080/"
        },
        "outputId": "3b1f4f2a-2747-47de-9f35-9ed9d3fb0790"
      },
      "source": [
        "def key_already_exist(key, dict_):\n",
        "    return key in dict_.keys()\n",
        "\n",
        "key = \"name\"\n",
        "print(f\"The key '{key}'\", \"exist\" if key_already_exist(key,sample_dict) else \"doesn't exist\", \"in the dictionnary.\")\n",
        "\n",
        "key = \"phone\"\n",
        "print(f\"The key '{key}'\", \"exist\" if key_already_exist(key,sample_dict) else \"doesn't exist\", \"in the dictionnary.\")"
      ],
      "execution_count": 23,
      "outputs": [
        {
          "output_type": "stream",
          "name": "stdout",
          "text": [
            "The key 'name' exist in the dictionnary.\n",
            "The key 'phone' doesn't exist in the dictionnary.\n"
          ]
        }
      ]
    },
    {
      "cell_type": "markdown",
      "metadata": {
        "id": "bNakccKyqyIE"
      },
      "source": [
        "• Write a program to iterate over dictionaries using for loops.\n"
      ]
    },
    {
      "cell_type": "code",
      "metadata": {
        "id": "Yey6IhTiqaPQ",
        "colab": {
          "base_uri": "https://localhost:8080/"
        },
        "outputId": "14c1b045-0038-4922-8f7e-9ac6b39fd459"
      },
      "source": [
        "def iterate_dict(dict_):\n",
        "    for key,value in dict_.items():\n",
        "        print(key, value, sep=\": \")\n",
        "        \n",
        "iterate_dict(sample_dict)"
      ],
      "execution_count": 25,
      "outputs": [
        {
          "output_type": "stream",
          "name": "stdout",
          "text": [
            "name: Jefferson\n",
            "birth_date: 1999-21-09\n",
            "gender: Male\n"
          ]
        }
      ]
    },
    {
      "cell_type": "markdown",
      "metadata": {
        "id": "lboerwu5qzhj"
      },
      "source": [
        "• Write a script to generate and print a dictionary that contains a number (between 1 and n) in the form (x, x*x).\n",
        "\n",
        "- Sample Dictionary: (n = 5)\n",
        "- Expected Output: {1: 1, 2: 4, 3: 9, 4: 16, 5: 25}\n"
      ]
    },
    {
      "cell_type": "code",
      "metadata": {
        "id": "WaMO5zivqz1c",
        "colab": {
          "base_uri": "https://localhost:8080/"
        },
        "outputId": "5988ed58-9a9a-4320-b3d5-328fbdb2beda"
      },
      "source": [
        "def generate_print_dict(n):\n",
        "    dict_ = {nb:nb*nb for nb in range(1,n+1)}\n",
        "    print(dict_)\n",
        "    \n",
        "generate_print_dict(5)"
      ],
      "execution_count": 26,
      "outputs": [
        {
          "output_type": "stream",
          "name": "stdout",
          "text": [
            "{1: 1, 2: 4, 3: 9, 4: 16, 5: 25}\n"
          ]
        }
      ]
    },
    {
      "cell_type": "markdown",
      "metadata": {
        "id": "LUlJTVINq34S"
      },
      "source": [
        "• Write a program to map two lists into a dictionary."
      ]
    },
    {
      "cell_type": "code",
      "metadata": {
        "id": "sSIY9O9wjUK9"
      },
      "source": [
        "list1 = [\"name\", \"birth_date\", \"gender\"]\n",
        "list2 = [\"Jessica\", \"1999-04-05\", \"Female\"]"
      ],
      "execution_count": 27,
      "outputs": []
    },
    {
      "cell_type": "code",
      "metadata": {
        "id": "YfuVeqCgq4jF",
        "colab": {
          "base_uri": "https://localhost:8080/"
        },
        "outputId": "7d3d8e32-127b-4839-dbc4-68357cf0420d"
      },
      "source": [
        "# Method 1\n",
        "def map_lists_dict(list1, list2):\n",
        "    if len(list1) == len(list2):\n",
        "        return {nb1:nb2 for nb1, nb2 in zip(list1, list2)}\n",
        "    else:\n",
        "        raise ValueError(\"List aren't the same length\")\n",
        "        \n",
        "print(map_lists_dict(list1, list2))\n",
        "\n",
        "# Methode 2\n",
        "print(dict(zip(list1,list2)))"
      ],
      "execution_count": 30,
      "outputs": [
        {
          "output_type": "stream",
          "name": "stdout",
          "text": [
            "{'name': 'Jessica', 'birth_date': '1999-04-05', 'gender': 'Female'}\n",
            "{'name': 'Jessica', 'birth_date': '1999-04-05', 'gender': 'Female'}\n"
          ]
        }
      ]
    },
    {
      "cell_type": "markdown",
      "metadata": {
        "id": "RfTIualkqLuO"
      },
      "source": [
        "<a name=\"exercise-4\">\n",
        "\n",
        "### Exercise 4 : Tuples & Sets\n",
        "\n",
        "---\n",
        "• Write a program to compute element-wise sum of given tuples. \n",
        "- Original lists:\n",
        "(1, 2, 3, 4) (3, 5, 2, 1) (2, 2, 3, 1)\n",
        "- Element-wise sum of the said tuples:\n",
        "(6, 9, 8, 6)"
      ]
    },
    {
      "cell_type": "code",
      "metadata": {
        "id": "HX51VZZTqai7",
        "colab": {
          "base_uri": "https://localhost:8080/"
        },
        "outputId": "bc329e09-19b6-4425-8b94-3402f24ca2b7"
      },
      "source": [
        "# Method 1\n",
        "def element_wise_tuples(*tuples):\n",
        "    return tuple(map(lambda *x: sum(x),*tuples))\n",
        "\n",
        "# Method 2\n",
        "def element_wise_tuples_version2(*tuples):\n",
        "    return tuple(map(sum,zip(*tuples)))\n",
        "\n",
        "tuple1 = tuple(range(1,5))   \n",
        "tuple2 = (3,5,2,1)  \n",
        "tuple3 = (2,2,3,1)  \n",
        "\n",
        "print(element_wise_tuples(tuple1, tuple2, tuple3))\n",
        "print(element_wise_tuples_version2(tuple1, tuple2, tuple3))"
      ],
      "execution_count": 31,
      "outputs": [
        {
          "output_type": "stream",
          "name": "stdout",
          "text": [
            "(6, 9, 8, 6)\n",
            "(6, 9, 8, 6)\n"
          ]
        }
      ]
    },
    {
      "cell_type": "markdown",
      "metadata": {
        "id": "c8JK4pWBrDXY"
      },
      "source": [
        "• Write a Python program to convert a tuple to a dictionary"
      ]
    },
    {
      "cell_type": "code",
      "metadata": {
        "id": "-bmqgodFrENX",
        "colab": {
          "base_uri": "https://localhost:8080/"
        },
        "outputId": "5bffb2db-5cb8-45d3-f35c-da1bde6e4db9"
      },
      "source": [
        "tuple_ = (3,5,2,1)  \n",
        "\n",
        "def tuple_to_dict(tuple_):\n",
        "    return {nb:value for nb,value in enumerate(tuple_)}\n",
        "\n",
        "tuple_to_dict(tuple_)"
      ],
      "execution_count": 32,
      "outputs": [
        {
          "output_type": "execute_result",
          "data": {
            "text/plain": [
              "{0: 3, 1: 5, 2: 2, 3: 1}"
            ]
          },
          "metadata": {},
          "execution_count": 32
        }
      ]
    },
    {
      "cell_type": "markdown",
      "metadata": {
        "id": "pLvO5ho7qMIq"
      },
      "source": [
        "<a name=\"exercise-5\">\n",
        "\n",
        "### Exercise 5 : Dates\n",
        "\n",
        "---\n",
        "• Write a Python program to get the current time. \n",
        "- Sample Format: 13:19:49.078205"
      ]
    },
    {
      "cell_type": "code",
      "metadata": {
        "id": "Kpi8L46Aqa2n"
      },
      "source": [
        "from datetime import datetime\n",
        "import datetime as dt\n",
        "import pytz\n",
        "\n",
        "timezone = pytz.timezone(\"Europe/Paris\")"
      ],
      "execution_count": 33,
      "outputs": []
    },
    {
      "cell_type": "code",
      "metadata": {
        "id": "xmGmeZzGrJxT",
        "colab": {
          "base_uri": "https://localhost:8080/"
        },
        "outputId": "cbc5fde5-5c6a-4b56-fdec-99dcc8604b91"
      },
      "source": [
        "now = datetime.now(tz=timezone)\n",
        "print(now.time())"
      ],
      "execution_count": 34,
      "outputs": [
        {
          "output_type": "stream",
          "name": "stdout",
          "text": [
            "11:30:15.464475\n"
          ]
        }
      ]
    },
    {
      "cell_type": "markdown",
      "metadata": {
        "id": "9jSxS7yGrJdy"
      },
      "source": [
        "• Write a Python program to subtract five days from current date. \n",
        "- Sample Date:\n",
        "- Current Date: 2015-06-22\n",
        "- 5 days before Current Date : 2015-06-1"
      ]
    },
    {
      "cell_type": "code",
      "metadata": {
        "id": "eztAT430aH0M",
        "colab": {
          "base_uri": "https://localhost:8080/"
        },
        "outputId": "7e269b28-b6c9-4add-b90b-baa38ee0e346"
      },
      "source": [
        "now = datetime.now()\n",
        "days = dt.timedelta(5)\n",
        "new_date = now-days\n",
        "\n",
        "print(\"Current Date:\", now.date())\n",
        "print(\"5 days before Current Date :\", new_date.date())"
      ],
      "execution_count": 36,
      "outputs": [
        {
          "output_type": "stream",
          "name": "stdout",
          "text": [
            "Current Date: 2021-09-30\n",
            "5 days before Current Date : 2021-09-25\n"
          ]
        }
      ]
    },
    {
      "cell_type": "markdown",
      "metadata": {
        "id": "jf5pU_5frJ9k"
      },
      "source": [
        "• Write a Python program to print yesterday, today, tomorrow"
      ]
    },
    {
      "cell_type": "code",
      "metadata": {
        "id": "pnfsJE_DrLN7",
        "colab": {
          "base_uri": "https://localhost:8080/"
        },
        "outputId": "a3b6cbd5-bf3f-43a0-e263-b117c622bc92"
      },
      "source": [
        "print(\"Yesterday:\",(datetime.now()-dt.timedelta(1)).date())\n",
        "print(\"Today:\",datetime.now().date())\n",
        "print(\"Tomorrow:\",(datetime.now()+dt.timedelta(1)).date())"
      ],
      "execution_count": 37,
      "outputs": [
        {
          "output_type": "stream",
          "name": "stdout",
          "text": [
            "Yesterday: 2021-09-29\n",
            "Today: 2021-09-30\n",
            "Tomorrow: 2021-10-01\n"
          ]
        }
      ]
    },
    {
      "cell_type": "markdown",
      "metadata": {
        "id": "9PDdb6vqrLcJ"
      },
      "source": [
        "• Write a Python program to get week number.\n",
        "- Sample Date : 2015, 6, 16 \n",
        "- Expected Output : 25"
      ]
    },
    {
      "cell_type": "code",
      "metadata": {
        "id": "jwEi-R9jrL1y",
        "colab": {
          "base_uri": "https://localhost:8080/"
        },
        "outputId": "a48379ee-6750-4e4d-b716-9146ba28aa72"
      },
      "source": [
        "def get_week_number(date):\n",
        "    return datetime.isocalendar(date)[1]\n",
        "\n",
        "print(\"Week number:\", get_week_number(datetime(2015, 6, 16)))"
      ],
      "execution_count": 41,
      "outputs": [
        {
          "output_type": "stream",
          "name": "stdout",
          "text": [
            "Week number: 25\n"
          ]
        }
      ]
    },
    {
      "cell_type": "markdown",
      "metadata": {
        "id": "Ax4N_WSLrdA7"
      },
      "source": [
        "• Write a Python program to calculate a number of days between two dates"
      ]
    },
    {
      "cell_type": "code",
      "metadata": {
        "id": "AeMcc8ePrd95",
        "colab": {
          "base_uri": "https://localhost:8080/"
        },
        "outputId": "580b84a8-2e1f-47de-dff7-84876737f857"
      },
      "source": [
        "date1 = datetime(2021,9,30)\n",
        "date2 = datetime(2021,9,20)\n",
        "\n",
        "print(\"Day number:\",abs(date1.day-date2.day))"
      ],
      "execution_count": 47,
      "outputs": [
        {
          "output_type": "stream",
          "name": "stdout",
          "text": [
            "Day number: 10\n"
          ]
        }
      ]
    },
    {
      "cell_type": "markdown",
      "metadata": {
        "id": "CyHCE-dZqMb-"
      },
      "source": [
        "<a name=\"exercise-6\">\n",
        "\n",
        "### Exercise 6 : File I/O\n",
        "\n",
        "---\n"
      ]
    },
    {
      "cell_type": "code",
      "metadata": {
        "id": "t98dO2T0qbHK"
      },
      "source": [
        "# Data generation\n",
        "with open(\"data.txt\", \"w\") as f:\n",
        "    f.writelines([\"this is a sample\\n\",\n",
        "                  \"document for a course\\n\",\n",
        "                  \"by ESILV in python tutorial\\n\",\n",
        "                  \"good luck folks for this sample\\n\",\n",
        "                  \"if you have a question don't hesitate to ask me\\n\",\n",
        "                  \"you must have my email as well if questions after the session\\n\"\n",
        "    ])"
      ],
      "execution_count": 73,
      "outputs": []
    },
    {
      "cell_type": "markdown",
      "metadata": {
        "id": "2PBusH8-Sy27"
      },
      "source": [
        "• Write a Python program to count the number of lines in a text file"
      ]
    },
    {
      "cell_type": "code",
      "metadata": {
        "id": "6VKrc_1NqhKY",
        "colab": {
          "base_uri": "https://localhost:8080/"
        },
        "outputId": "7fc2db72-835c-46e3-9cc8-488ed717aa27"
      },
      "source": [
        "def line_nb_file(path):\n",
        "    with open(path, \"r\") as f:\n",
        "        line_nb = len(f.readlines())\n",
        "    return line_nb\n",
        "    \n",
        "print(line_nb_file(\"data.txt\"))"
      ],
      "execution_count": 50,
      "outputs": [
        {
          "output_type": "stream",
          "name": "stdout",
          "text": [
            "6\n"
          ]
        }
      ]
    },
    {
      "cell_type": "markdown",
      "metadata": {
        "id": "n19_Rg0sqf6H"
      },
      "source": [
        "• Write a Python program to assess if a file is closed or not\n"
      ]
    },
    {
      "cell_type": "code",
      "metadata": {
        "id": "OR-DpP9BqivV",
        "colab": {
          "base_uri": "https://localhost:8080/"
        },
        "outputId": "837ac5ac-67ae-48a3-e8d8-d5d791305c72"
      },
      "source": [
        "def is_file_closed(file):\n",
        "    return file.closed\n",
        "\n",
        "file = open(\"data.txt\", \"r\")\n",
        "print(\"The file\", \"is\" if is_file_closed(file) else \"isn't\", \"closed\")\n",
        "file.close()\n",
        "print(\"The file\", \"is\" if is_file_closed(file) else \"isn't\", \"closed\")"
      ],
      "execution_count": 52,
      "outputs": [
        {
          "output_type": "stream",
          "name": "stdout",
          "text": [
            "The file isn't closed\n",
            "The file is closed\n"
          ]
        }
      ]
    },
    {
      "cell_type": "markdown",
      "metadata": {
        "id": "WxgHAFb4qhnC"
      },
      "source": [
        "• Write a Python program to append text to a file and display the text\n"
      ]
    },
    {
      "cell_type": "code",
      "metadata": {
        "id": "GsGH5BE2iFLW",
        "colab": {
          "base_uri": "https://localhost:8080/"
        },
        "outputId": "915df9d5-964c-4ced-f578-980d9d2e71a4"
      },
      "source": [
        "def append_text(path, text):\n",
        "    with open(path, \"a\") as f:\n",
        "        f.writelines(text)\n",
        "        \n",
        "    with open(path, \"r\") as f:\n",
        "        print(\"\".join(f.readlines()))\n",
        "\n",
        "append_text(\"data.txt\", \"Hello world\")"
      ],
      "execution_count": 74,
      "outputs": [
        {
          "output_type": "stream",
          "name": "stdout",
          "text": [
            "this is a sample\n",
            "document for a course\n",
            "by ESILV in python tutorial\n",
            "good luck folks for this sample\n",
            "if you have a question don't hesitate to ask me\n",
            "you must have my email as well if questions after the session\n",
            "Hello world\n"
          ]
        }
      ]
    },
    {
      "cell_type": "markdown",
      "metadata": {
        "id": "ZEt-WWckqjSN"
      },
      "source": [
        "• Write a Python program to count the frequency of words in a file."
      ]
    },
    {
      "cell_type": "code",
      "metadata": {
        "id": "fWXNHF6LqkId",
        "colab": {
          "base_uri": "https://localhost:8080/"
        },
        "outputId": "0c9cb460-7196-4e5e-8d10-1695e1a6b33c"
      },
      "source": [
        "def word_freq(path, char=\" \"):\n",
        "    with open(path, \"r\") as f:\n",
        "        words = f.readlines()\n",
        "    words = \" \".join([word[:-1] for word in words]).lower().split(char)\n",
        "    all_words = set(words)\n",
        "    return {word:words.count(word) for word in all_words}\n",
        "\n",
        "word_freq(\"data.txt\")"
      ],
      "execution_count": 76,
      "outputs": [
        {
          "output_type": "execute_result",
          "data": {
            "text/plain": [
              "{'a': 3,\n",
              " 'after': 1,\n",
              " 'as': 1,\n",
              " 'ask': 1,\n",
              " 'by': 1,\n",
              " 'course': 1,\n",
              " 'document': 1,\n",
              " \"don't\": 1,\n",
              " 'email': 1,\n",
              " 'esilv': 1,\n",
              " 'folks': 1,\n",
              " 'for': 2,\n",
              " 'good': 1,\n",
              " 'have': 2,\n",
              " 'hello': 1,\n",
              " 'hesitate': 1,\n",
              " 'if': 2,\n",
              " 'in': 1,\n",
              " 'is': 1,\n",
              " 'luck': 1,\n",
              " 'me': 1,\n",
              " 'must': 1,\n",
              " 'my': 1,\n",
              " 'python': 1,\n",
              " 'question': 1,\n",
              " 'questions': 1,\n",
              " 'sample': 2,\n",
              " 'session': 1,\n",
              " 'the': 1,\n",
              " 'this': 2,\n",
              " 'to': 1,\n",
              " 'tutorial': 1,\n",
              " 'well': 1,\n",
              " 'worl': 1,\n",
              " 'you': 2}"
            ]
          },
          "metadata": {},
          "execution_count": 76
        }
      ]
    },
    {
      "cell_type": "markdown",
      "metadata": {
        "id": "GhMKdGQwi9gA"
      },
      "source": [
        "## Good job, you finished the first tutorial ! 😎"
      ]
    }
  ]
}
